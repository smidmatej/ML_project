{
 "cells": [
  {
   "cell_type": "markdown",
   "metadata": {
    "id": "B7s7HDMt3iot"
   },
   "source": [
    "# Machine Learning Project \n",
    "\n",
    "### Matej SMID, Adelina CUCU, Sofia FEDOTOVA, Bhavini KHASANA"
   ]
  },
  {
   "cell_type": "markdown",
   "metadata": {
    "id": "jGEbm8KgPX0P"
   },
   "source": [
    "## Intoduction\n",
    "\n",
    "The  dataset  Train.csv  comes  from  Kaggle.\n",
    "\n",
    " We chose the first task: \n",
    "### 1.   Detect   if   there   is   an   attack   on   the   network   or   not.\n",
    "\n",
    "Firstly we need to import all libraties we are using:"
   ]
  },
  {
   "cell_type": "code",
   "execution_count": 41,
   "metadata": {
    "id": "sZHIu1tT3iov"
   },
   "outputs": [],
   "source": [
    "import pandas as pd\n",
    "import numpy as np\n",
    "import matplotlib.pyplot as plt\n",
    "import sklearn as sk\n",
    "#import seaborn as sb\n",
    "from sklearn.preprocessing import OneHotEncoder, StandardScaler\n",
    "from sklearn.model_selection import train_test_split\n",
    "import seaborn as sns\n",
    "import time\n",
    "from sklearn.pipeline import Pipeline"
   ]
  },
  {
   "cell_type": "markdown",
   "metadata": {
    "id": "2vLEoImN3ioy"
   },
   "source": [
    "<h1> Load the training data </h1>"
   ]
  },
  {
   "cell_type": "code",
   "execution_count": 42,
   "metadata": {
    "colab": {
     "base_uri": "https://localhost:8080/"
    },
    "id": "5d17gK1osb5G",
    "outputId": "19c3a371-f409-4f1e-93b9-fb8fb65cda6f"
   },
   "outputs": [],
   "source": [
    "#from google.colab import drive\n",
    "#drive.mount('/content/drive')\n"
   ]
  },
  {
   "cell_type": "code",
   "execution_count": 43,
   "metadata": {
    "colab": {
     "base_uri": "https://localhost:8080/",
     "height": 300
    },
    "id": "QwtPgYvg3ioy",
    "outputId": "3c221420-b403-464c-c65d-f65b5f99368b"
   },
   "outputs": [
    {
     "data": {
      "text/html": [
       "<div>\n",
       "<style scoped>\n",
       "    .dataframe tbody tr th:only-of-type {\n",
       "        vertical-align: middle;\n",
       "    }\n",
       "\n",
       "    .dataframe tbody tr th {\n",
       "        vertical-align: top;\n",
       "    }\n",
       "\n",
       "    .dataframe thead th {\n",
       "        text-align: right;\n",
       "    }\n",
       "</style>\n",
       "<table border=\"1\" class=\"dataframe\">\n",
       "  <thead>\n",
       "    <tr style=\"text-align: right;\">\n",
       "      <th></th>\n",
       "      <th>duration</th>\n",
       "      <th>protocol_type</th>\n",
       "      <th>service</th>\n",
       "      <th>flag</th>\n",
       "      <th>src_bytes</th>\n",
       "      <th>dst_bytes</th>\n",
       "      <th>land</th>\n",
       "      <th>wrong_fragment</th>\n",
       "      <th>urgent</th>\n",
       "      <th>hot</th>\n",
       "      <th>...</th>\n",
       "      <th>dst_host_same_srv_rate</th>\n",
       "      <th>dst_host_diff_srv_rate</th>\n",
       "      <th>dst_host_same_src_port_rate</th>\n",
       "      <th>dst_host_srv_diff_host_rate</th>\n",
       "      <th>dst_host_serror_rate</th>\n",
       "      <th>dst_host_srv_serror_rate</th>\n",
       "      <th>dst_host_rerror_rate</th>\n",
       "      <th>dst_host_srv_rerror_rate</th>\n",
       "      <th>attack</th>\n",
       "      <th>last_flag</th>\n",
       "    </tr>\n",
       "  </thead>\n",
       "  <tbody>\n",
       "    <tr>\n",
       "      <th>0</th>\n",
       "      <td>0</td>\n",
       "      <td>tcp</td>\n",
       "      <td>ftp_data</td>\n",
       "      <td>SF</td>\n",
       "      <td>491</td>\n",
       "      <td>0</td>\n",
       "      <td>0</td>\n",
       "      <td>0</td>\n",
       "      <td>0</td>\n",
       "      <td>0</td>\n",
       "      <td>...</td>\n",
       "      <td>0.17</td>\n",
       "      <td>0.03</td>\n",
       "      <td>0.17</td>\n",
       "      <td>0.00</td>\n",
       "      <td>0.00</td>\n",
       "      <td>0.00</td>\n",
       "      <td>0.05</td>\n",
       "      <td>0.00</td>\n",
       "      <td>normal</td>\n",
       "      <td>20</td>\n",
       "    </tr>\n",
       "    <tr>\n",
       "      <th>1</th>\n",
       "      <td>0</td>\n",
       "      <td>udp</td>\n",
       "      <td>other</td>\n",
       "      <td>SF</td>\n",
       "      <td>146</td>\n",
       "      <td>0</td>\n",
       "      <td>0</td>\n",
       "      <td>0</td>\n",
       "      <td>0</td>\n",
       "      <td>0</td>\n",
       "      <td>...</td>\n",
       "      <td>0.00</td>\n",
       "      <td>0.60</td>\n",
       "      <td>0.88</td>\n",
       "      <td>0.00</td>\n",
       "      <td>0.00</td>\n",
       "      <td>0.00</td>\n",
       "      <td>0.00</td>\n",
       "      <td>0.00</td>\n",
       "      <td>normal</td>\n",
       "      <td>15</td>\n",
       "    </tr>\n",
       "    <tr>\n",
       "      <th>2</th>\n",
       "      <td>0</td>\n",
       "      <td>tcp</td>\n",
       "      <td>private</td>\n",
       "      <td>S0</td>\n",
       "      <td>0</td>\n",
       "      <td>0</td>\n",
       "      <td>0</td>\n",
       "      <td>0</td>\n",
       "      <td>0</td>\n",
       "      <td>0</td>\n",
       "      <td>...</td>\n",
       "      <td>0.10</td>\n",
       "      <td>0.05</td>\n",
       "      <td>0.00</td>\n",
       "      <td>0.00</td>\n",
       "      <td>1.00</td>\n",
       "      <td>1.00</td>\n",
       "      <td>0.00</td>\n",
       "      <td>0.00</td>\n",
       "      <td>neptune</td>\n",
       "      <td>19</td>\n",
       "    </tr>\n",
       "    <tr>\n",
       "      <th>3</th>\n",
       "      <td>0</td>\n",
       "      <td>tcp</td>\n",
       "      <td>http</td>\n",
       "      <td>SF</td>\n",
       "      <td>232</td>\n",
       "      <td>8153</td>\n",
       "      <td>0</td>\n",
       "      <td>0</td>\n",
       "      <td>0</td>\n",
       "      <td>0</td>\n",
       "      <td>...</td>\n",
       "      <td>1.00</td>\n",
       "      <td>0.00</td>\n",
       "      <td>0.03</td>\n",
       "      <td>0.04</td>\n",
       "      <td>0.03</td>\n",
       "      <td>0.01</td>\n",
       "      <td>0.00</td>\n",
       "      <td>0.01</td>\n",
       "      <td>normal</td>\n",
       "      <td>21</td>\n",
       "    </tr>\n",
       "    <tr>\n",
       "      <th>4</th>\n",
       "      <td>0</td>\n",
       "      <td>tcp</td>\n",
       "      <td>http</td>\n",
       "      <td>SF</td>\n",
       "      <td>199</td>\n",
       "      <td>420</td>\n",
       "      <td>0</td>\n",
       "      <td>0</td>\n",
       "      <td>0</td>\n",
       "      <td>0</td>\n",
       "      <td>...</td>\n",
       "      <td>1.00</td>\n",
       "      <td>0.00</td>\n",
       "      <td>0.00</td>\n",
       "      <td>0.00</td>\n",
       "      <td>0.00</td>\n",
       "      <td>0.00</td>\n",
       "      <td>0.00</td>\n",
       "      <td>0.00</td>\n",
       "      <td>normal</td>\n",
       "      <td>21</td>\n",
       "    </tr>\n",
       "  </tbody>\n",
       "</table>\n",
       "<p>5 rows × 43 columns</p>\n",
       "</div>"
      ],
      "text/plain": [
       "   duration protocol_type   service flag  src_bytes  dst_bytes  land  \\\n",
       "0         0           tcp  ftp_data   SF        491          0     0   \n",
       "1         0           udp     other   SF        146          0     0   \n",
       "2         0           tcp   private   S0          0          0     0   \n",
       "3         0           tcp      http   SF        232       8153     0   \n",
       "4         0           tcp      http   SF        199        420     0   \n",
       "\n",
       "   wrong_fragment  urgent  hot  ...  dst_host_same_srv_rate  \\\n",
       "0               0       0    0  ...                    0.17   \n",
       "1               0       0    0  ...                    0.00   \n",
       "2               0       0    0  ...                    0.10   \n",
       "3               0       0    0  ...                    1.00   \n",
       "4               0       0    0  ...                    1.00   \n",
       "\n",
       "   dst_host_diff_srv_rate  dst_host_same_src_port_rate  \\\n",
       "0                    0.03                         0.17   \n",
       "1                    0.60                         0.88   \n",
       "2                    0.05                         0.00   \n",
       "3                    0.00                         0.03   \n",
       "4                    0.00                         0.00   \n",
       "\n",
       "   dst_host_srv_diff_host_rate  dst_host_serror_rate  \\\n",
       "0                         0.00                  0.00   \n",
       "1                         0.00                  0.00   \n",
       "2                         0.00                  1.00   \n",
       "3                         0.04                  0.03   \n",
       "4                         0.00                  0.00   \n",
       "\n",
       "   dst_host_srv_serror_rate  dst_host_rerror_rate  dst_host_srv_rerror_rate  \\\n",
       "0                      0.00                  0.05                      0.00   \n",
       "1                      0.00                  0.00                      0.00   \n",
       "2                      1.00                  0.00                      0.00   \n",
       "3                      0.01                  0.00                      0.01   \n",
       "4                      0.00                  0.00                      0.00   \n",
       "\n",
       "    attack  last_flag  \n",
       "0   normal         20  \n",
       "1   normal         15  \n",
       "2  neptune         19  \n",
       "3   normal         21  \n",
       "4   normal         21  \n",
       "\n",
       "[5 rows x 43 columns]"
      ]
     },
     "execution_count": 43,
     "metadata": {},
     "output_type": "execute_result"
    }
   ],
   "source": [
    "df = pd.read_csv('Train.csv')\n",
    "df_test = pd.read_csv('Test.csv')\n",
    "df.head()\n"
   ]
  },
  {
   "cell_type": "markdown",
   "metadata": {
    "id": "EM-ZzGUf6IGx"
   },
   "source": []
  },
  {
   "cell_type": "markdown",
   "metadata": {
    "id": "SdXOfi3t3ioz"
   },
   "source": [
    "## Exploratory analysis"
   ]
  },
  {
   "cell_type": "code",
   "execution_count": 44,
   "metadata": {
    "colab": {
     "base_uri": "https://localhost:8080/",
     "height": 394
    },
    "id": "KPhBdNc23ioz",
    "outputId": "6fed44d6-fcef-41e3-c100-817790935721"
   },
   "outputs": [
    {
     "data": {
      "text/html": [
       "<div>\n",
       "<style scoped>\n",
       "    .dataframe tbody tr th:only-of-type {\n",
       "        vertical-align: middle;\n",
       "    }\n",
       "\n",
       "    .dataframe tbody tr th {\n",
       "        vertical-align: top;\n",
       "    }\n",
       "\n",
       "    .dataframe thead th {\n",
       "        text-align: right;\n",
       "    }\n",
       "</style>\n",
       "<table border=\"1\" class=\"dataframe\">\n",
       "  <thead>\n",
       "    <tr style=\"text-align: right;\">\n",
       "      <th></th>\n",
       "      <th>duration</th>\n",
       "      <th>src_bytes</th>\n",
       "      <th>dst_bytes</th>\n",
       "      <th>land</th>\n",
       "      <th>wrong_fragment</th>\n",
       "      <th>urgent</th>\n",
       "      <th>hot</th>\n",
       "      <th>num_failed_logins</th>\n",
       "      <th>logged_in</th>\n",
       "      <th>num_compromised</th>\n",
       "      <th>...</th>\n",
       "      <th>dst_host_srv_count</th>\n",
       "      <th>dst_host_same_srv_rate</th>\n",
       "      <th>dst_host_diff_srv_rate</th>\n",
       "      <th>dst_host_same_src_port_rate</th>\n",
       "      <th>dst_host_srv_diff_host_rate</th>\n",
       "      <th>dst_host_serror_rate</th>\n",
       "      <th>dst_host_srv_serror_rate</th>\n",
       "      <th>dst_host_rerror_rate</th>\n",
       "      <th>dst_host_srv_rerror_rate</th>\n",
       "      <th>last_flag</th>\n",
       "    </tr>\n",
       "  </thead>\n",
       "  <tbody>\n",
       "    <tr>\n",
       "      <th>count</th>\n",
       "      <td>125973.00000</td>\n",
       "      <td>1.259730e+05</td>\n",
       "      <td>1.259730e+05</td>\n",
       "      <td>125973.000000</td>\n",
       "      <td>125973.000000</td>\n",
       "      <td>125973.000000</td>\n",
       "      <td>125973.000000</td>\n",
       "      <td>125973.000000</td>\n",
       "      <td>125973.000000</td>\n",
       "      <td>125973.000000</td>\n",
       "      <td>...</td>\n",
       "      <td>125973.000000</td>\n",
       "      <td>125973.000000</td>\n",
       "      <td>125973.000000</td>\n",
       "      <td>125973.000000</td>\n",
       "      <td>125973.000000</td>\n",
       "      <td>125973.000000</td>\n",
       "      <td>125973.000000</td>\n",
       "      <td>125973.000000</td>\n",
       "      <td>125973.000000</td>\n",
       "      <td>125973.000000</td>\n",
       "    </tr>\n",
       "    <tr>\n",
       "      <th>mean</th>\n",
       "      <td>287.14465</td>\n",
       "      <td>4.556674e+04</td>\n",
       "      <td>1.977911e+04</td>\n",
       "      <td>0.000198</td>\n",
       "      <td>0.022687</td>\n",
       "      <td>0.000111</td>\n",
       "      <td>0.204409</td>\n",
       "      <td>0.001222</td>\n",
       "      <td>0.395736</td>\n",
       "      <td>0.279250</td>\n",
       "      <td>...</td>\n",
       "      <td>115.653005</td>\n",
       "      <td>0.521242</td>\n",
       "      <td>0.082951</td>\n",
       "      <td>0.148379</td>\n",
       "      <td>0.032542</td>\n",
       "      <td>0.284452</td>\n",
       "      <td>0.278485</td>\n",
       "      <td>0.118832</td>\n",
       "      <td>0.120240</td>\n",
       "      <td>19.504060</td>\n",
       "    </tr>\n",
       "    <tr>\n",
       "      <th>std</th>\n",
       "      <td>2604.51531</td>\n",
       "      <td>5.870331e+06</td>\n",
       "      <td>4.021269e+06</td>\n",
       "      <td>0.014086</td>\n",
       "      <td>0.253530</td>\n",
       "      <td>0.014366</td>\n",
       "      <td>2.149968</td>\n",
       "      <td>0.045239</td>\n",
       "      <td>0.489010</td>\n",
       "      <td>23.942042</td>\n",
       "      <td>...</td>\n",
       "      <td>110.702741</td>\n",
       "      <td>0.448949</td>\n",
       "      <td>0.188922</td>\n",
       "      <td>0.308997</td>\n",
       "      <td>0.112564</td>\n",
       "      <td>0.444784</td>\n",
       "      <td>0.445669</td>\n",
       "      <td>0.306557</td>\n",
       "      <td>0.319459</td>\n",
       "      <td>2.291503</td>\n",
       "    </tr>\n",
       "    <tr>\n",
       "      <th>min</th>\n",
       "      <td>0.00000</td>\n",
       "      <td>0.000000e+00</td>\n",
       "      <td>0.000000e+00</td>\n",
       "      <td>0.000000</td>\n",
       "      <td>0.000000</td>\n",
       "      <td>0.000000</td>\n",
       "      <td>0.000000</td>\n",
       "      <td>0.000000</td>\n",
       "      <td>0.000000</td>\n",
       "      <td>0.000000</td>\n",
       "      <td>...</td>\n",
       "      <td>0.000000</td>\n",
       "      <td>0.000000</td>\n",
       "      <td>0.000000</td>\n",
       "      <td>0.000000</td>\n",
       "      <td>0.000000</td>\n",
       "      <td>0.000000</td>\n",
       "      <td>0.000000</td>\n",
       "      <td>0.000000</td>\n",
       "      <td>0.000000</td>\n",
       "      <td>0.000000</td>\n",
       "    </tr>\n",
       "    <tr>\n",
       "      <th>25%</th>\n",
       "      <td>0.00000</td>\n",
       "      <td>0.000000e+00</td>\n",
       "      <td>0.000000e+00</td>\n",
       "      <td>0.000000</td>\n",
       "      <td>0.000000</td>\n",
       "      <td>0.000000</td>\n",
       "      <td>0.000000</td>\n",
       "      <td>0.000000</td>\n",
       "      <td>0.000000</td>\n",
       "      <td>0.000000</td>\n",
       "      <td>...</td>\n",
       "      <td>10.000000</td>\n",
       "      <td>0.050000</td>\n",
       "      <td>0.000000</td>\n",
       "      <td>0.000000</td>\n",
       "      <td>0.000000</td>\n",
       "      <td>0.000000</td>\n",
       "      <td>0.000000</td>\n",
       "      <td>0.000000</td>\n",
       "      <td>0.000000</td>\n",
       "      <td>18.000000</td>\n",
       "    </tr>\n",
       "    <tr>\n",
       "      <th>50%</th>\n",
       "      <td>0.00000</td>\n",
       "      <td>4.400000e+01</td>\n",
       "      <td>0.000000e+00</td>\n",
       "      <td>0.000000</td>\n",
       "      <td>0.000000</td>\n",
       "      <td>0.000000</td>\n",
       "      <td>0.000000</td>\n",
       "      <td>0.000000</td>\n",
       "      <td>0.000000</td>\n",
       "      <td>0.000000</td>\n",
       "      <td>...</td>\n",
       "      <td>63.000000</td>\n",
       "      <td>0.510000</td>\n",
       "      <td>0.020000</td>\n",
       "      <td>0.000000</td>\n",
       "      <td>0.000000</td>\n",
       "      <td>0.000000</td>\n",
       "      <td>0.000000</td>\n",
       "      <td>0.000000</td>\n",
       "      <td>0.000000</td>\n",
       "      <td>20.000000</td>\n",
       "    </tr>\n",
       "    <tr>\n",
       "      <th>75%</th>\n",
       "      <td>0.00000</td>\n",
       "      <td>2.760000e+02</td>\n",
       "      <td>5.160000e+02</td>\n",
       "      <td>0.000000</td>\n",
       "      <td>0.000000</td>\n",
       "      <td>0.000000</td>\n",
       "      <td>0.000000</td>\n",
       "      <td>0.000000</td>\n",
       "      <td>1.000000</td>\n",
       "      <td>0.000000</td>\n",
       "      <td>...</td>\n",
       "      <td>255.000000</td>\n",
       "      <td>1.000000</td>\n",
       "      <td>0.070000</td>\n",
       "      <td>0.060000</td>\n",
       "      <td>0.020000</td>\n",
       "      <td>1.000000</td>\n",
       "      <td>1.000000</td>\n",
       "      <td>0.000000</td>\n",
       "      <td>0.000000</td>\n",
       "      <td>21.000000</td>\n",
       "    </tr>\n",
       "    <tr>\n",
       "      <th>max</th>\n",
       "      <td>42908.00000</td>\n",
       "      <td>1.379964e+09</td>\n",
       "      <td>1.309937e+09</td>\n",
       "      <td>1.000000</td>\n",
       "      <td>3.000000</td>\n",
       "      <td>3.000000</td>\n",
       "      <td>77.000000</td>\n",
       "      <td>5.000000</td>\n",
       "      <td>1.000000</td>\n",
       "      <td>7479.000000</td>\n",
       "      <td>...</td>\n",
       "      <td>255.000000</td>\n",
       "      <td>1.000000</td>\n",
       "      <td>1.000000</td>\n",
       "      <td>1.000000</td>\n",
       "      <td>1.000000</td>\n",
       "      <td>1.000000</td>\n",
       "      <td>1.000000</td>\n",
       "      <td>1.000000</td>\n",
       "      <td>1.000000</td>\n",
       "      <td>21.000000</td>\n",
       "    </tr>\n",
       "  </tbody>\n",
       "</table>\n",
       "<p>8 rows × 39 columns</p>\n",
       "</div>"
      ],
      "text/plain": [
       "           duration     src_bytes     dst_bytes           land  \\\n",
       "count  125973.00000  1.259730e+05  1.259730e+05  125973.000000   \n",
       "mean      287.14465  4.556674e+04  1.977911e+04       0.000198   \n",
       "std      2604.51531  5.870331e+06  4.021269e+06       0.014086   \n",
       "min         0.00000  0.000000e+00  0.000000e+00       0.000000   \n",
       "25%         0.00000  0.000000e+00  0.000000e+00       0.000000   \n",
       "50%         0.00000  4.400000e+01  0.000000e+00       0.000000   \n",
       "75%         0.00000  2.760000e+02  5.160000e+02       0.000000   \n",
       "max     42908.00000  1.379964e+09  1.309937e+09       1.000000   \n",
       "\n",
       "       wrong_fragment         urgent            hot  num_failed_logins  \\\n",
       "count   125973.000000  125973.000000  125973.000000      125973.000000   \n",
       "mean         0.022687       0.000111       0.204409           0.001222   \n",
       "std          0.253530       0.014366       2.149968           0.045239   \n",
       "min          0.000000       0.000000       0.000000           0.000000   \n",
       "25%          0.000000       0.000000       0.000000           0.000000   \n",
       "50%          0.000000       0.000000       0.000000           0.000000   \n",
       "75%          0.000000       0.000000       0.000000           0.000000   \n",
       "max          3.000000       3.000000      77.000000           5.000000   \n",
       "\n",
       "           logged_in  num_compromised  ...  dst_host_srv_count  \\\n",
       "count  125973.000000    125973.000000  ...       125973.000000   \n",
       "mean        0.395736         0.279250  ...          115.653005   \n",
       "std         0.489010        23.942042  ...          110.702741   \n",
       "min         0.000000         0.000000  ...            0.000000   \n",
       "25%         0.000000         0.000000  ...           10.000000   \n",
       "50%         0.000000         0.000000  ...           63.000000   \n",
       "75%         1.000000         0.000000  ...          255.000000   \n",
       "max         1.000000      7479.000000  ...          255.000000   \n",
       "\n",
       "       dst_host_same_srv_rate  dst_host_diff_srv_rate  \\\n",
       "count           125973.000000           125973.000000   \n",
       "mean                 0.521242                0.082951   \n",
       "std                  0.448949                0.188922   \n",
       "min                  0.000000                0.000000   \n",
       "25%                  0.050000                0.000000   \n",
       "50%                  0.510000                0.020000   \n",
       "75%                  1.000000                0.070000   \n",
       "max                  1.000000                1.000000   \n",
       "\n",
       "       dst_host_same_src_port_rate  dst_host_srv_diff_host_rate  \\\n",
       "count                125973.000000                125973.000000   \n",
       "mean                      0.148379                     0.032542   \n",
       "std                       0.308997                     0.112564   \n",
       "min                       0.000000                     0.000000   \n",
       "25%                       0.000000                     0.000000   \n",
       "50%                       0.000000                     0.000000   \n",
       "75%                       0.060000                     0.020000   \n",
       "max                       1.000000                     1.000000   \n",
       "\n",
       "       dst_host_serror_rate  dst_host_srv_serror_rate  dst_host_rerror_rate  \\\n",
       "count         125973.000000             125973.000000         125973.000000   \n",
       "mean               0.284452                  0.278485              0.118832   \n",
       "std                0.444784                  0.445669              0.306557   \n",
       "min                0.000000                  0.000000              0.000000   \n",
       "25%                0.000000                  0.000000              0.000000   \n",
       "50%                0.000000                  0.000000              0.000000   \n",
       "75%                1.000000                  1.000000              0.000000   \n",
       "max                1.000000                  1.000000              1.000000   \n",
       "\n",
       "       dst_host_srv_rerror_rate      last_flag  \n",
       "count             125973.000000  125973.000000  \n",
       "mean                   0.120240      19.504060  \n",
       "std                    0.319459       2.291503  \n",
       "min                    0.000000       0.000000  \n",
       "25%                    0.000000      18.000000  \n",
       "50%                    0.000000      20.000000  \n",
       "75%                    0.000000      21.000000  \n",
       "max                    1.000000      21.000000  \n",
       "\n",
       "[8 rows x 39 columns]"
      ]
     },
     "execution_count": 44,
     "metadata": {},
     "output_type": "execute_result"
    }
   ],
   "source": [
    "# Descriptive statistics\n",
    "df.describe()\n"
   ]
  },
  {
   "cell_type": "markdown",
   "metadata": {
    "id": "LyMlh0Rw3io0"
   },
   "source": [
    "We are now storing the labels of our columns in the variable \"column_names\""
   ]
  },
  {
   "cell_type": "code",
   "execution_count": 45,
   "metadata": {
    "colab": {
     "base_uri": "https://localhost:8080/"
    },
    "id": "Lr690KjM3io0",
    "outputId": "cff98571-cf4c-4b3a-a899-8f7db37e9eee"
   },
   "outputs": [
    {
     "name": "stdout",
     "output_type": "stream",
     "text": [
      "Index(['duration', 'protocol_type', 'service', 'flag', 'src_bytes',\n",
      "       'dst_bytes', 'land', 'wrong_fragment', 'urgent', 'hot',\n",
      "       'num_failed_logins', 'logged_in', 'num_compromised', 'root_shell',\n",
      "       'su_attempted', 'num_root', 'num_file_creations', 'num_shells',\n",
      "       'num_access_files', 'num_outbound_cmds', 'is_host_login',\n",
      "       'is_guest_login', 'count', 'srv_count', 'serror_rate',\n",
      "       'srv_serror_rate', 'rerror_rate', 'srv_rerror_rate', 'same_srv_rate',\n",
      "       'diff_srv_rate', 'srv_diff_host_rate', 'dst_host_count',\n",
      "       'dst_host_srv_count', 'dst_host_same_srv_rate',\n",
      "       'dst_host_diff_srv_rate', 'dst_host_same_src_port_rate',\n",
      "       'dst_host_srv_diff_host_rate', 'dst_host_serror_rate',\n",
      "       'dst_host_srv_serror_rate', 'dst_host_rerror_rate',\n",
      "       'dst_host_srv_rerror_rate', 'attack', 'last_flag'],\n",
      "      dtype='object')\n"
     ]
    }
   ],
   "source": [
    "column_name=df.columns\n",
    "print (column_name)"
   ]
  },
  {
   "cell_type": "markdown",
   "metadata": {
    "id": "kGY4hMzV3io1"
   },
   "source": [
    "## Checking the data consistency\n",
    "\n",
    "### We check the number of duplicates using the pandas <em>duplicated()</em> method. \n",
    "The assertion checks if the number of non-duplicates (unique) rows is equal to the total number of rows in the dataset"
   ]
  },
  {
   "cell_type": "code",
   "execution_count": 46,
   "metadata": {
    "colab": {
     "base_uri": "https://localhost:8080/"
    },
    "id": "TV5_Wa5A3io1",
    "outputId": "ee66bd7c-5dc0-4f8a-d46d-4da32f5c8c3a"
   },
   "outputs": [
    {
     "name": "stdout",
     "output_type": "stream",
     "text": [
      "False    125973\n",
      "dtype: int64\n",
      "(125973, 43)\n",
      "True\n"
     ]
    }
   ],
   "source": [
    "number_of_duplicates = df.duplicated().value_counts()\n",
    "\n",
    "print(number_of_duplicates)\n",
    "print(df.shape)\n",
    "print(number_of_duplicates[0] == df.shape[0])\n",
    "assert number_of_duplicates[0] == df.shape[0], 'There are duplicates in the train dataset'\n",
    "\n",
    "number_of_duplicates = df_test.duplicated().value_counts()\n",
    "assert number_of_duplicates[0] == df_test.shape[0], 'There are duplicates in the test dataset'\n"
   ]
  },
  {
   "cell_type": "markdown",
   "metadata": {
    "id": "j_A57JyX3io2"
   },
   "source": [
    "We check if the names of the collumns are all unique"
   ]
  },
  {
   "cell_type": "code",
   "execution_count": 47,
   "metadata": {
    "colab": {
     "base_uri": "https://localhost:8080/"
    },
    "id": "KJVL7YI63io2",
    "outputId": "f52f5f19-da53-47e7-ccd5-b80c9d6d5c0e"
   },
   "outputs": [
    {
     "name": "stdout",
     "output_type": "stream",
     "text": [
      "[False] [43]\n",
      "(125973, 43)\n"
     ]
    }
   ],
   "source": [
    "\n",
    "unique, counts = np.unique(df.columns.duplicated(), return_counts=True)\n",
    "print(unique, counts)\n",
    "print(df.shape)\n",
    "assert counts[0] == df.shape[1], 'There are duplicate columns in the train dataset'\n",
    "\n",
    "unique, counts = np.unique(df_test.columns.duplicated(), return_counts=True)\n",
    "assert counts[0] == df_test.shape[1], 'There are duplicate columns in the test dataset'"
   ]
  },
  {
   "cell_type": "markdown",
   "metadata": {
    "id": "B_SSl8Vv3io2"
   },
   "source": [
    "In case of detected duplicates in our dataset, we delete them and return the dataset with the duplicates row removed"
   ]
  },
  {
   "cell_type": "code",
   "execution_count": 48,
   "metadata": {
    "colab": {
     "base_uri": "https://localhost:8080/"
    },
    "id": "76XVFfSd3io3",
    "outputId": "d4d3ee57-35e3-4cb5-c68a-7e8f74274b58"
   },
   "outputs": [
    {
     "data": {
      "text/plain": [
       "(125973, 43)"
      ]
     },
     "execution_count": 48,
     "metadata": {},
     "output_type": "execute_result"
    }
   ],
   "source": [
    "# drop_duplicates () : this function return DataFrame with duplicate rows removed.\n",
    "df = df.drop_duplicates(subset = column_name[:-1] , keep ='first' , inplace = False)\n",
    "df.shape"
   ]
  },
  {
   "cell_type": "markdown",
   "metadata": {
    "id": "Kf1aWBjk3io3"
   },
   "source": [
    "We are checking for null values in the dataset."
   ]
  },
  {
   "cell_type": "code",
   "execution_count": 49,
   "metadata": {
    "colab": {
     "base_uri": "https://localhost:8080/"
    },
    "id": "HG3kSg3h3io3",
    "outputId": "65f2eb78-d4c0-4bc8-82ac-c649202d3e41"
   },
   "outputs": [
    {
     "name": "stdout",
     "output_type": "stream",
     "text": [
      "Empty DataFrame\n",
      "Columns: [duration, protocol_type, service, flag, src_bytes, dst_bytes, land, wrong_fragment, urgent, hot, num_failed_logins, logged_in, num_compromised, root_shell, su_attempted, num_root, num_file_creations, num_shells, num_access_files, num_outbound_cmds, is_host_login, is_guest_login, count, srv_count, serror_rate, srv_serror_rate, rerror_rate, srv_rerror_rate, same_srv_rate, diff_srv_rate, srv_diff_host_rate, dst_host_count, dst_host_srv_count, dst_host_same_srv_rate, dst_host_diff_srv_rate, dst_host_same_src_port_rate, dst_host_srv_diff_host_rate, dst_host_serror_rate, dst_host_srv_serror_rate, dst_host_rerror_rate, dst_host_srv_rerror_rate, attack, last_flag]\n",
      "Index: []\n",
      "\n",
      "[0 rows x 43 columns]\n",
      "Empty DataFrame\n",
      "Columns: [duration, protocol_type, service, flag, src_bytes, dst_bytes, land, wrong_fragment, urgent, hot, num_failed_logins, logged_in, num_compromised, root_shell, su_attempted, num_root, num_file_creations, num_shells, num_access_files, num_outbound_cmds, is_host_login, is_guest_login, count, srv_count, serror_rate, srv_serror_rate, rerror_rate, srv_rerror_rate, same_srv_rate, diff_srv_rate, srv_diff_host_rate, dst_host_count, dst_host_srv_count, dst_host_same_srv_rate, dst_host_diff_srv_rate, dst_host_same_src_port_rate, dst_host_srv_diff_host_rate, dst_host_serror_rate, dst_host_srv_serror_rate, dst_host_rerror_rate, dst_host_srv_rerror_rate, last_flag]\n",
      "Index: []\n",
      "\n",
      "[0 rows x 42 columns]\n"
     ]
    }
   ],
   "source": [
    "null_rows = df[df.isnull().any(1)]\n",
    "print(null_rows)\n",
    "\n",
    "null_rows = df_test[df_test.isnull().any(1)]\n",
    "print(null_rows)"
   ]
  },
  {
   "cell_type": "markdown",
   "metadata": {
    "id": "sPWcLX4E3io4"
   },
   "source": [
    "We have no null values\n",
    "\n",
    "## One-Hot-Encoding\n",
    "\n",
    "We extract the categorical column names from the dataframe. Next we will replace their string values by their one-hot encoding "
   ]
  },
  {
   "cell_type": "code",
   "execution_count": 50,
   "metadata": {
    "colab": {
     "base_uri": "https://localhost:8080/"
    },
    "id": "pd7gBKkG3io4",
    "outputId": "4183f394-1106-4b14-fecc-d0d59e978d35"
   },
   "outputs": [
    {
     "name": "stdout",
     "output_type": "stream",
     "text": [
      "['protocol_type', 'service', 'flag']\n",
      "['duration', 'src_bytes', 'dst_bytes', 'land', 'wrong_fragment', 'urgent', 'hot', 'num_failed_logins', 'logged_in', 'num_compromised', 'root_shell', 'su_attempted', 'num_root', 'num_file_creations', 'num_shells', 'num_access_files', 'num_outbound_cmds', 'is_host_login', 'is_guest_login', 'count', 'srv_count', 'serror_rate', 'srv_serror_rate', 'rerror_rate', 'srv_rerror_rate', 'same_srv_rate', 'diff_srv_rate', 'srv_diff_host_rate', 'dst_host_count', 'dst_host_srv_count', 'dst_host_same_srv_rate', 'dst_host_diff_srv_rate', 'dst_host_same_src_port_rate', 'dst_host_srv_diff_host_rate', 'dst_host_serror_rate', 'dst_host_srv_serror_rate', 'dst_host_rerror_rate', 'dst_host_srv_rerror_rate', 'last_flag']\n"
     ]
    }
   ],
   "source": [
    "categorical_columns = [df.columns[i] for i in range(len(df.columns)) if type(df[df.columns[i]][0]) == str]\n",
    "\n",
    "# Remove categorical columns from the rest \n",
    "continuous_columns = df.columns.tolist()\n",
    "for category in categorical_columns:\n",
    "    continuous_columns.remove(category)\n",
    "\n",
    "\n",
    "categorical_columns.remove('attack')\n",
    "print(categorical_columns)\n",
    "print(continuous_columns)\n",
    "\n"
   ]
  },
  {
   "cell_type": "markdown",
   "metadata": {
    "id": "vvpannYPt_FI"
   },
   "source": [
    "## Deleting  uninformative  variables using correlation matrix\n",
    "\n",
    "Next we look at the correlation between continuous columns. We do this to explore the statistical feature space of our data. Our aim, is to remove redundant features ,i.e., those that have a strong correlation with other features."
   ]
  },
  {
   "cell_type": "code",
   "execution_count": 51,
   "metadata": {
    "colab": {
     "base_uri": "https://localhost:8080/",
     "height": 667
    },
    "id": "19XUgOs9szUE",
    "outputId": "05cc7508-b0e3-4d24-e89c-bab2e756fda7"
   },
   "outputs": [
    {
     "data": {
      "image/png": "[encoded data removed]",
      "text/plain": [
       "<Figure size 500x500 with 2 Axes>"
      ]
     },
     "metadata": {
      "needs_background": "light"
     },
     "output_type": "display_data"
    }
   ],
   "source": [
    "continuous_columns_corr = df[continuous_columns].corr()\n",
    "plt.figure(figsize=(5,5), dpi=100)\n",
    "sns.heatmap(continuous_columns_corr)\n",
    "plt.title(\"Correlation matrix before removing highly correlated columns\")\n",
    "plt.xlabel(\"Column index\")\n",
    "plt.ylabel(\"Column index\")\n",
    "plt.show()"
   ]
  },
  {
   "cell_type": "code",
   "execution_count": 52,
   "metadata": {
    "colab": {
     "base_uri": "https://localhost:8080/"
    },
    "id": "S4wCNenYwaxo",
    "outputId": "17cddb8b-e957-49d8-a37a-dd09760967b8"
   },
   "outputs": [
    {
     "data": {
      "text/plain": [
       "array([[ 1.00000000e+00,  7.07368282e-02,  3.48777983e-02, ...,\n",
       "         1.73815290e-01,  1.99023604e-01, -1.56310613e-01],\n",
       "       [ 7.07368282e-02,  1.00000000e+00,  2.03882858e-04, ...,\n",
       "        -1.46826964e-03,  1.24492896e-02, -2.25921940e-02],\n",
       "       [ 3.48777983e-02,  2.03882858e-04,  1.00000000e+00, ...,\n",
       "         1.17292724e-02,  1.12233308e-02, -1.80756269e-02],\n",
       "       ...,\n",
       "       [ 1.73815290e-01, -1.46826964e-03,  1.17292724e-02, ...,\n",
       "         1.00000000e+00,  9.24687892e-01, -1.00885445e-01],\n",
       "       [ 1.99023604e-01,  1.24492896e-02,  1.12233308e-02, ...,\n",
       "         9.24687892e-01,  1.00000000e+00, -9.16624916e-02],\n",
       "       [-1.56310613e-01, -2.25921940e-02, -1.80756269e-02, ...,\n",
       "        -1.00885445e-01, -9.16624916e-02,  1.00000000e+00]])"
      ]
     },
     "execution_count": 52,
     "metadata": {},
     "output_type": "execute_result"
    }
   ],
   "source": [
    "continuous_columns_corr.to_numpy()"
   ]
  },
  {
   "cell_type": "markdown",
   "metadata": {
    "id": "43XwmM4Q2lKk"
   },
   "source": [
    "In this part we are deleting high-correlated features in order to encrease the speed.\n",
    "We can change the variable correlation_threshold to decide how much cross-correlation we are willing to tolerate. \n",
    "Higher threshold leads to being more tolerant, meaning we will keep a larger number of columns. Lowering the threshold means we will remove more columns, thus simplyfing the data, reducing the computational load, and easing the interpretation of the results."
   ]
  },
  {
   "cell_type": "code",
   "execution_count": 53,
   "metadata": {
    "colab": {
     "base_uri": "https://localhost:8080/"
    },
    "id": "-lIVjciHuX0u",
    "outputId": "bd7fdff4-99eb-486a-9132-cd72cd630ef5"
   },
   "outputs": [
    {
     "name": "stdout",
     "output_type": "stream",
     "text": [
      "Removing num_root\n",
      "['duration', 'src_bytes', 'dst_bytes', 'land', 'wrong_fragment', 'urgent', 'hot', 'num_failed_logins', 'logged_in', 'num_compromised', 'root_shell', 'su_attempted', 'num_root', 'num_file_creations', 'num_shells', 'num_access_files', 'num_outbound_cmds', 'is_host_login', 'is_guest_login', 'count', 'srv_count', 'serror_rate', 'srv_serror_rate', 'rerror_rate', 'srv_rerror_rate', 'same_srv_rate', 'diff_srv_rate', 'srv_diff_host_rate', 'dst_host_count', 'dst_host_srv_count', 'dst_host_same_srv_rate', 'dst_host_diff_srv_rate', 'dst_host_same_src_port_rate', 'dst_host_srv_diff_host_rate', 'dst_host_serror_rate', 'dst_host_srv_serror_rate', 'dst_host_rerror_rate', 'dst_host_srv_rerror_rate', 'last_flag']\n",
      "Removing srv_serror_rate\n",
      "['duration', 'src_bytes', 'dst_bytes', 'land', 'wrong_fragment', 'urgent', 'hot', 'num_failed_logins', 'logged_in', 'num_compromised', 'root_shell', 'su_attempted', 'num_file_creations', 'num_shells', 'num_access_files', 'num_outbound_cmds', 'is_host_login', 'is_guest_login', 'count', 'srv_count', 'serror_rate', 'srv_serror_rate', 'rerror_rate', 'srv_rerror_rate', 'same_srv_rate', 'diff_srv_rate', 'srv_diff_host_rate', 'dst_host_count', 'dst_host_srv_count', 'dst_host_same_srv_rate', 'dst_host_diff_srv_rate', 'dst_host_same_src_port_rate', 'dst_host_srv_diff_host_rate', 'dst_host_serror_rate', 'dst_host_srv_serror_rate', 'dst_host_rerror_rate', 'dst_host_srv_rerror_rate', 'last_flag']\n",
      "Removing dst_host_serror_rate\n",
      "['duration', 'src_bytes', 'dst_bytes', 'land', 'wrong_fragment', 'urgent', 'hot', 'num_failed_logins', 'logged_in', 'num_compromised', 'root_shell', 'su_attempted', 'num_file_creations', 'num_shells', 'num_access_files', 'num_outbound_cmds', 'is_host_login', 'is_guest_login', 'count', 'srv_count', 'serror_rate', 'rerror_rate', 'srv_rerror_rate', 'same_srv_rate', 'diff_srv_rate', 'srv_diff_host_rate', 'dst_host_count', 'dst_host_srv_count', 'dst_host_same_srv_rate', 'dst_host_diff_srv_rate', 'dst_host_same_src_port_rate', 'dst_host_srv_diff_host_rate', 'dst_host_serror_rate', 'dst_host_srv_serror_rate', 'dst_host_rerror_rate', 'dst_host_srv_rerror_rate', 'last_flag']\n",
      "Removing dst_host_srv_serror_rate\n",
      "['duration', 'src_bytes', 'dst_bytes', 'land', 'wrong_fragment', 'urgent', 'hot', 'num_failed_logins', 'logged_in', 'num_compromised', 'root_shell', 'su_attempted', 'num_file_creations', 'num_shells', 'num_access_files', 'num_outbound_cmds', 'is_host_login', 'is_guest_login', 'count', 'srv_count', 'serror_rate', 'rerror_rate', 'srv_rerror_rate', 'same_srv_rate', 'diff_srv_rate', 'srv_diff_host_rate', 'dst_host_count', 'dst_host_srv_count', 'dst_host_same_srv_rate', 'dst_host_diff_srv_rate', 'dst_host_same_src_port_rate', 'dst_host_srv_diff_host_rate', 'dst_host_srv_serror_rate', 'dst_host_rerror_rate', 'dst_host_srv_rerror_rate', 'last_flag']\n",
      "Removing srv_rerror_rate\n",
      "['duration', 'src_bytes', 'dst_bytes', 'land', 'wrong_fragment', 'urgent', 'hot', 'num_failed_logins', 'logged_in', 'num_compromised', 'root_shell', 'su_attempted', 'num_file_creations', 'num_shells', 'num_access_files', 'num_outbound_cmds', 'is_host_login', 'is_guest_login', 'count', 'srv_count', 'serror_rate', 'rerror_rate', 'srv_rerror_rate', 'same_srv_rate', 'diff_srv_rate', 'srv_diff_host_rate', 'dst_host_count', 'dst_host_srv_count', 'dst_host_same_srv_rate', 'dst_host_diff_srv_rate', 'dst_host_same_src_port_rate', 'dst_host_srv_diff_host_rate', 'dst_host_rerror_rate', 'dst_host_srv_rerror_rate', 'last_flag']\n",
      "Removing dst_host_rerror_rate\n",
      "['duration', 'src_bytes', 'dst_bytes', 'land', 'wrong_fragment', 'urgent', 'hot', 'num_failed_logins', 'logged_in', 'num_compromised', 'root_shell', 'su_attempted', 'num_file_creations', 'num_shells', 'num_access_files', 'num_outbound_cmds', 'is_host_login', 'is_guest_login', 'count', 'srv_count', 'serror_rate', 'rerror_rate', 'same_srv_rate', 'diff_srv_rate', 'srv_diff_host_rate', 'dst_host_count', 'dst_host_srv_count', 'dst_host_same_srv_rate', 'dst_host_diff_srv_rate', 'dst_host_same_src_port_rate', 'dst_host_srv_diff_host_rate', 'dst_host_rerror_rate', 'dst_host_srv_rerror_rate', 'last_flag']\n",
      "Removing dst_host_srv_rerror_rate\n",
      "['duration', 'src_bytes', 'dst_bytes', 'land', 'wrong_fragment', 'urgent', 'hot', 'num_failed_logins', 'logged_in', 'num_compromised', 'root_shell', 'su_attempted', 'num_file_creations', 'num_shells', 'num_access_files', 'num_outbound_cmds', 'is_host_login', 'is_guest_login', 'count', 'srv_count', 'serror_rate', 'rerror_rate', 'same_srv_rate', 'diff_srv_rate', 'srv_diff_host_rate', 'dst_host_count', 'dst_host_srv_count', 'dst_host_same_srv_rate', 'dst_host_diff_srv_rate', 'dst_host_same_src_port_rate', 'dst_host_srv_diff_host_rate', 'dst_host_srv_rerror_rate', 'last_flag']\n",
      "Done removing\n",
      "['duration', 'src_bytes', 'dst_bytes', 'land', 'wrong_fragment', 'urgent', 'hot', 'num_failed_logins', 'logged_in', 'num_compromised', 'root_shell', 'su_attempted', 'num_root', 'num_file_creations', 'num_shells', 'num_access_files', 'num_outbound_cmds', 'is_host_login', 'is_guest_login', 'count', 'srv_count', 'serror_rate', 'srv_serror_rate', 'rerror_rate', 'srv_rerror_rate', 'same_srv_rate', 'diff_srv_rate', 'srv_diff_host_rate', 'dst_host_count', 'dst_host_srv_count', 'dst_host_same_srv_rate', 'dst_host_diff_srv_rate', 'dst_host_same_src_port_rate', 'dst_host_srv_diff_host_rate', 'dst_host_serror_rate', 'dst_host_srv_serror_rate', 'dst_host_rerror_rate', 'dst_host_srv_rerror_rate', 'last_flag']\n",
      "['duration', 'src_bytes', 'dst_bytes', 'land', 'wrong_fragment', 'urgent', 'hot', 'num_failed_logins', 'logged_in', 'num_compromised', 'root_shell', 'su_attempted', 'num_file_creations', 'num_shells', 'num_access_files', 'num_outbound_cmds', 'is_host_login', 'is_guest_login', 'count', 'srv_count', 'serror_rate', 'rerror_rate', 'same_srv_rate', 'diff_srv_rate', 'srv_diff_host_rate', 'dst_host_count', 'dst_host_srv_count', 'dst_host_same_srv_rate', 'dst_host_diff_srv_rate', 'dst_host_same_src_port_rate', 'dst_host_srv_diff_host_rate', 'last_flag']\n"
     ]
    }
   ],
   "source": [
    "import copy\n",
    "\n",
    "\n",
    "\n",
    "def remove_one(corr_matrix, correlation_threshold):\n",
    "  for i in range(corr_matrix.shape[0]):\n",
    "    for j in range(i+1, corr_matrix.shape[1]):\n",
    "    \n",
    "      if np.abs(corr_matrix[i,j]) > correlation_threshold:\n",
    "        return(j)\n",
    "  return(None)\n",
    "          #indexes_to_remove.append(j)\n",
    "          #correlation_columns.remove(df.columns[j])\n",
    "\n",
    "correlation_threshold = 0.9\n",
    "\n",
    "correlation_columns = copy.deepcopy(continuous_columns)\n",
    "for n in range(len(continuous_columns)):\n",
    "  continuous_columns_corr = df[correlation_columns].corr().to_numpy()\n",
    "  index_to_remove = remove_one(continuous_columns_corr, correlation_threshold)\n",
    "  if index_to_remove is None:\n",
    "    print(\"Done removing\")\n",
    "    break\n",
    "  else:\n",
    "    print(f\"Removing {correlation_columns[index_to_remove]}\")\n",
    "    print(correlation_columns)\n",
    "    correlation_columns.remove(correlation_columns[index_to_remove])\n",
    "\n",
    "print(continuous_columns)\n",
    "print(correlation_columns)\n"
   ]
  },
  {
   "cell_type": "markdown",
   "metadata": {},
   "source": [
    "Now we are checking a new correlation matrix"
   ]
  },
  {
   "cell_type": "code",
   "execution_count": 54,
   "metadata": {
    "colab": {
     "base_uri": "https://localhost:8080/",
     "height": 654
    },
    "id": "486Q-2DH2F_o",
    "outputId": "f369177b-73d0-4d98-a319-47a92f4161ea"
   },
   "outputs": [
    {
     "data": {
      "image/png": "[encoded data removed]",
      "text/plain": [
       "<Figure size 500x500 with 2 Axes>"
      ]
     },
     "metadata": {
      "needs_background": "light"
     },
     "output_type": "display_data"
    }
   ],
   "source": [
    "continuous_columns_corr = df[correlation_columns].corr()\n",
    "plt.figure(figsize=(5,5), dpi=100)\n",
    "sns.heatmap(continuous_columns_corr)\n",
    "plt.title(\"Correlation matrix after removing highly correlated columns\")\n",
    "plt.xlabel(\"Column index\")\n",
    "plt.ylabel(\"Column index\")\n",
    "plt.show()\n",
    "\n",
    "# After choosing the correlation columns, use them in the preprocessing dataframes\n",
    "continuous_columns = correlation_columns\n"
   ]
  },
  {
   "cell_type": "markdown",
   "metadata": {
    "id": "2WCTRAwuWOux"
   },
   "source": [
    "By analyzing the 4 types of attacks categories, we can conclude that the most relevant information in our dataset for defining if there was an attack or not is: \n",
    "“source bytes”\n",
    "“percentage of packets with errors”\n",
    "“duration of connection”\n",
    "“number of file creations”\n",
    "“number of shell prompts invoked”\n",
    "“Duration of connection” -Duration\n",
    "“service requested” \n",
    "“number of failed login Attempts”\n",
    "\n",
    "These are corresponding to the following columns:\n",
    "src_bytes,\n",
    "serror_rate,\n",
    "srv_serror_rate,\n",
    "num_file_creations,\n",
    "num_shells,\n",
    "duration,\n",
    "service,\n",
    "num_failed_logins, \n",
    "logged_in,\n"
   ]
  },
  {
   "cell_type": "code",
   "execution_count": 55,
   "metadata": {
    "colab": {
     "base_uri": "https://localhost:8080/"
    },
    "id": "t3huA_AWWK1J",
    "outputId": "e76810d0-848c-4bd1-8443-69132a96d262"
   },
   "outputs": [
    {
     "name": "stdout",
     "output_type": "stream",
     "text": [
      "['duration', 'src_bytes', 'dst_bytes', 'land', 'wrong_fragment', 'urgent', 'hot', 'num_failed_logins', 'logged_in', 'num_compromised', 'root_shell', 'su_attempted', 'num_file_creations', 'num_shells', 'num_access_files', 'num_outbound_cmds', 'is_host_login', 'is_guest_login', 'count', 'srv_count', 'serror_rate', 'rerror_rate', 'same_srv_rate', 'diff_srv_rate', 'srv_diff_host_rate', 'dst_host_count', 'dst_host_srv_count', 'dst_host_same_srv_rate', 'dst_host_diff_srv_rate', 'dst_host_same_src_port_rate', 'dst_host_srv_diff_host_rate', 'last_flag', 'srv_serror_rate']\n"
     ]
    }
   ],
   "source": [
    "important_columns = ['src_bytes', 'serror_rate', 'srv_serror_rate', 'num_file_creations', 'num_shells', 'duration', 'num_failed_logins', 'logged_in'] \n",
    "\n",
    "# We might have removed some of the important columns using our correlation method. To repair this, we add them back if they were removed\n",
    "for column in important_columns:\n",
    "  if column not in continuous_columns:\n",
    "    continuous_columns.append(column)\n",
    "\n",
    "print(continuous_columns)"
   ]
  },
  {
   "cell_type": "code",
   "execution_count": 56,
   "metadata": {
    "colab": {
     "base_uri": "https://localhost:8080/",
     "height": 206
    },
    "id": "8teGGbQUmBdK",
    "outputId": "6c2bb096-5aa8-4a8f-ec50-3019823e4634"
   },
   "outputs": [
    {
     "data": {
      "text/html": [
       "<div>\n",
       "<style scoped>\n",
       "    .dataframe tbody tr th:only-of-type {\n",
       "        vertical-align: middle;\n",
       "    }\n",
       "\n",
       "    .dataframe tbody tr th {\n",
       "        vertical-align: top;\n",
       "    }\n",
       "\n",
       "    .dataframe thead th {\n",
       "        text-align: right;\n",
       "    }\n",
       "</style>\n",
       "<table border=\"1\" class=\"dataframe\">\n",
       "  <thead>\n",
       "    <tr style=\"text-align: right;\">\n",
       "      <th></th>\n",
       "      <th>protocol_type</th>\n",
       "      <th>service</th>\n",
       "      <th>flag</th>\n",
       "    </tr>\n",
       "  </thead>\n",
       "  <tbody>\n",
       "    <tr>\n",
       "      <th>0</th>\n",
       "      <td>tcp</td>\n",
       "      <td>private</td>\n",
       "      <td>REJ</td>\n",
       "    </tr>\n",
       "    <tr>\n",
       "      <th>1</th>\n",
       "      <td>tcp</td>\n",
       "      <td>private</td>\n",
       "      <td>REJ</td>\n",
       "    </tr>\n",
       "    <tr>\n",
       "      <th>2</th>\n",
       "      <td>tcp</td>\n",
       "      <td>ftp_data</td>\n",
       "      <td>SF</td>\n",
       "    </tr>\n",
       "    <tr>\n",
       "      <th>3</th>\n",
       "      <td>icmp</td>\n",
       "      <td>eco_i</td>\n",
       "      <td>SF</td>\n",
       "    </tr>\n",
       "    <tr>\n",
       "      <th>4</th>\n",
       "      <td>tcp</td>\n",
       "      <td>telnet</td>\n",
       "      <td>RSTO</td>\n",
       "    </tr>\n",
       "  </tbody>\n",
       "</table>\n",
       "</div>"
      ],
      "text/plain": [
       "  protocol_type   service  flag\n",
       "0           tcp   private   REJ\n",
       "1           tcp   private   REJ\n",
       "2           tcp  ftp_data    SF\n",
       "3          icmp     eco_i    SF\n",
       "4           tcp    telnet  RSTO"
      ]
     },
     "execution_count": 56,
     "metadata": {},
     "output_type": "execute_result"
    }
   ],
   "source": [
    "df_test[categorical_columns].head()"
   ]
  },
  {
   "cell_type": "code",
   "execution_count": 57,
   "metadata": {
    "colab": {
     "base_uri": "https://localhost:8080/",
     "height": 206
    },
    "id": "PEIoOx3xntTC",
    "outputId": "4bb702ae-4b11-430b-f572-21483a88f61c"
   },
   "outputs": [
    {
     "data": {
      "text/html": [
       "<div>\n",
       "<style scoped>\n",
       "    .dataframe tbody tr th:only-of-type {\n",
       "        vertical-align: middle;\n",
       "    }\n",
       "\n",
       "    .dataframe tbody tr th {\n",
       "        vertical-align: top;\n",
       "    }\n",
       "\n",
       "    .dataframe thead th {\n",
       "        text-align: right;\n",
       "    }\n",
       "</style>\n",
       "<table border=\"1\" class=\"dataframe\">\n",
       "  <thead>\n",
       "    <tr style=\"text-align: right;\">\n",
       "      <th></th>\n",
       "      <th>protocol_type</th>\n",
       "      <th>service</th>\n",
       "      <th>flag</th>\n",
       "    </tr>\n",
       "  </thead>\n",
       "  <tbody>\n",
       "    <tr>\n",
       "      <th>0</th>\n",
       "      <td>tcp</td>\n",
       "      <td>ftp_data</td>\n",
       "      <td>SF</td>\n",
       "    </tr>\n",
       "    <tr>\n",
       "      <th>1</th>\n",
       "      <td>udp</td>\n",
       "      <td>other</td>\n",
       "      <td>SF</td>\n",
       "    </tr>\n",
       "    <tr>\n",
       "      <th>2</th>\n",
       "      <td>tcp</td>\n",
       "      <td>private</td>\n",
       "      <td>S0</td>\n",
       "    </tr>\n",
       "    <tr>\n",
       "      <th>3</th>\n",
       "      <td>tcp</td>\n",
       "      <td>http</td>\n",
       "      <td>SF</td>\n",
       "    </tr>\n",
       "    <tr>\n",
       "      <th>4</th>\n",
       "      <td>tcp</td>\n",
       "      <td>http</td>\n",
       "      <td>SF</td>\n",
       "    </tr>\n",
       "  </tbody>\n",
       "</table>\n",
       "</div>"
      ],
      "text/plain": [
       "  protocol_type   service flag\n",
       "0           tcp  ftp_data   SF\n",
       "1           udp     other   SF\n",
       "2           tcp   private   S0\n",
       "3           tcp      http   SF\n",
       "4           tcp      http   SF"
      ]
     },
     "execution_count": 57,
     "metadata": {},
     "output_type": "execute_result"
    }
   ],
   "source": [
    "df[categorical_columns].head()"
   ]
  },
  {
   "cell_type": "markdown",
   "metadata": {
    "id": "5bpiM1043io4"
   },
   "source": [
    "Then we encode the categorical columns using one-hot encoding. This encoding transforms the number of our categorical columns from 4 to 107. This relation is the sum of all of the possible categories over all categorical columns."
   ]
  },
  {
   "cell_type": "code",
   "execution_count": 58,
   "metadata": {
    "colab": {
     "base_uri": "https://localhost:8080/",
     "height": 300
    },
    "id": "fF_dVKYr3io5",
    "outputId": "3d23aa72-aa24-4cd5-c1d7-53983dd8c12d",
    "scrolled": true
   },
   "outputs": [
    {
     "data": {
      "text/html": [
       "<div>\n",
       "<style scoped>\n",
       "    .dataframe tbody tr th:only-of-type {\n",
       "        vertical-align: middle;\n",
       "    }\n",
       "\n",
       "    .dataframe tbody tr th {\n",
       "        vertical-align: top;\n",
       "    }\n",
       "\n",
       "    .dataframe thead th {\n",
       "        text-align: right;\n",
       "    }\n",
       "</style>\n",
       "<table border=\"1\" class=\"dataframe\">\n",
       "  <thead>\n",
       "    <tr style=\"text-align: right;\">\n",
       "      <th></th>\n",
       "      <th>icmp_ohe</th>\n",
       "      <th>tcp_ohe</th>\n",
       "      <th>udp_ohe</th>\n",
       "      <th>IRC_ohe</th>\n",
       "      <th>X11_ohe</th>\n",
       "      <th>Z39_50_ohe</th>\n",
       "      <th>aol_ohe</th>\n",
       "      <th>auth_ohe</th>\n",
       "      <th>bgp_ohe</th>\n",
       "      <th>courier_ohe</th>\n",
       "      <th>...</th>\n",
       "      <th>REJ_ohe</th>\n",
       "      <th>RSTO_ohe</th>\n",
       "      <th>RSTOS0_ohe</th>\n",
       "      <th>RSTR_ohe</th>\n",
       "      <th>S0_ohe</th>\n",
       "      <th>S1_ohe</th>\n",
       "      <th>S2_ohe</th>\n",
       "      <th>S3_ohe</th>\n",
       "      <th>SF_ohe</th>\n",
       "      <th>SH_ohe</th>\n",
       "    </tr>\n",
       "  </thead>\n",
       "  <tbody>\n",
       "    <tr>\n",
       "      <th>0</th>\n",
       "      <td>0.0</td>\n",
       "      <td>1.0</td>\n",
       "      <td>0.0</td>\n",
       "      <td>0.0</td>\n",
       "      <td>0.0</td>\n",
       "      <td>0.0</td>\n",
       "      <td>0.0</td>\n",
       "      <td>0.0</td>\n",
       "      <td>0.0</td>\n",
       "      <td>0.0</td>\n",
       "      <td>...</td>\n",
       "      <td>0.0</td>\n",
       "      <td>0.0</td>\n",
       "      <td>0.0</td>\n",
       "      <td>0.0</td>\n",
       "      <td>0.0</td>\n",
       "      <td>0.0</td>\n",
       "      <td>0.0</td>\n",
       "      <td>0.0</td>\n",
       "      <td>1.0</td>\n",
       "      <td>0.0</td>\n",
       "    </tr>\n",
       "    <tr>\n",
       "      <th>1</th>\n",
       "      <td>0.0</td>\n",
       "      <td>0.0</td>\n",
       "      <td>1.0</td>\n",
       "      <td>0.0</td>\n",
       "      <td>0.0</td>\n",
       "      <td>0.0</td>\n",
       "      <td>0.0</td>\n",
       "      <td>0.0</td>\n",
       "      <td>0.0</td>\n",
       "      <td>0.0</td>\n",
       "      <td>...</td>\n",
       "      <td>0.0</td>\n",
       "      <td>0.0</td>\n",
       "      <td>0.0</td>\n",
       "      <td>0.0</td>\n",
       "      <td>0.0</td>\n",
       "      <td>0.0</td>\n",
       "      <td>0.0</td>\n",
       "      <td>0.0</td>\n",
       "      <td>1.0</td>\n",
       "      <td>0.0</td>\n",
       "    </tr>\n",
       "    <tr>\n",
       "      <th>2</th>\n",
       "      <td>0.0</td>\n",
       "      <td>1.0</td>\n",
       "      <td>0.0</td>\n",
       "      <td>0.0</td>\n",
       "      <td>0.0</td>\n",
       "      <td>0.0</td>\n",
       "      <td>0.0</td>\n",
       "      <td>0.0</td>\n",
       "      <td>0.0</td>\n",
       "      <td>0.0</td>\n",
       "      <td>...</td>\n",
       "      <td>0.0</td>\n",
       "      <td>0.0</td>\n",
       "      <td>0.0</td>\n",
       "      <td>0.0</td>\n",
       "      <td>1.0</td>\n",
       "      <td>0.0</td>\n",
       "      <td>0.0</td>\n",
       "      <td>0.0</td>\n",
       "      <td>0.0</td>\n",
       "      <td>0.0</td>\n",
       "    </tr>\n",
       "    <tr>\n",
       "      <th>3</th>\n",
       "      <td>0.0</td>\n",
       "      <td>1.0</td>\n",
       "      <td>0.0</td>\n",
       "      <td>0.0</td>\n",
       "      <td>0.0</td>\n",
       "      <td>0.0</td>\n",
       "      <td>0.0</td>\n",
       "      <td>0.0</td>\n",
       "      <td>0.0</td>\n",
       "      <td>0.0</td>\n",
       "      <td>...</td>\n",
       "      <td>0.0</td>\n",
       "      <td>0.0</td>\n",
       "      <td>0.0</td>\n",
       "      <td>0.0</td>\n",
       "      <td>0.0</td>\n",
       "      <td>0.0</td>\n",
       "      <td>0.0</td>\n",
       "      <td>0.0</td>\n",
       "      <td>1.0</td>\n",
       "      <td>0.0</td>\n",
       "    </tr>\n",
       "    <tr>\n",
       "      <th>4</th>\n",
       "      <td>0.0</td>\n",
       "      <td>1.0</td>\n",
       "      <td>0.0</td>\n",
       "      <td>0.0</td>\n",
       "      <td>0.0</td>\n",
       "      <td>0.0</td>\n",
       "      <td>0.0</td>\n",
       "      <td>0.0</td>\n",
       "      <td>0.0</td>\n",
       "      <td>0.0</td>\n",
       "      <td>...</td>\n",
       "      <td>0.0</td>\n",
       "      <td>0.0</td>\n",
       "      <td>0.0</td>\n",
       "      <td>0.0</td>\n",
       "      <td>0.0</td>\n",
       "      <td>0.0</td>\n",
       "      <td>0.0</td>\n",
       "      <td>0.0</td>\n",
       "      <td>1.0</td>\n",
       "      <td>0.0</td>\n",
       "    </tr>\n",
       "  </tbody>\n",
       "</table>\n",
       "<p>5 rows × 84 columns</p>\n",
       "</div>"
      ],
      "text/plain": [
       "   icmp_ohe  tcp_ohe  udp_ohe  IRC_ohe  X11_ohe  Z39_50_ohe  aol_ohe  \\\n",
       "0       0.0      1.0      0.0      0.0      0.0         0.0      0.0   \n",
       "1       0.0      0.0      1.0      0.0      0.0         0.0      0.0   \n",
       "2       0.0      1.0      0.0      0.0      0.0         0.0      0.0   \n",
       "3       0.0      1.0      0.0      0.0      0.0         0.0      0.0   \n",
       "4       0.0      1.0      0.0      0.0      0.0         0.0      0.0   \n",
       "\n",
       "   auth_ohe  bgp_ohe  courier_ohe  ...  REJ_ohe  RSTO_ohe  RSTOS0_ohe  \\\n",
       "0       0.0      0.0          0.0  ...      0.0       0.0         0.0   \n",
       "1       0.0      0.0          0.0  ...      0.0       0.0         0.0   \n",
       "2       0.0      0.0          0.0  ...      0.0       0.0         0.0   \n",
       "3       0.0      0.0          0.0  ...      0.0       0.0         0.0   \n",
       "4       0.0      0.0          0.0  ...      0.0       0.0         0.0   \n",
       "\n",
       "   RSTR_ohe  S0_ohe  S1_ohe  S2_ohe  S3_ohe  SF_ohe  SH_ohe  \n",
       "0       0.0     0.0     0.0     0.0     0.0     1.0     0.0  \n",
       "1       0.0     0.0     0.0     0.0     0.0     1.0     0.0  \n",
       "2       0.0     1.0     0.0     0.0     0.0     0.0     0.0  \n",
       "3       0.0     0.0     0.0     0.0     0.0     1.0     0.0  \n",
       "4       0.0     0.0     0.0     0.0     0.0     1.0     0.0  \n",
       "\n",
       "[5 rows x 84 columns]"
      ]
     },
     "execution_count": 58,
     "metadata": {},
     "output_type": "execute_result"
    }
   ],
   "source": [
    "ohe = OneHotEncoder(handle_unknown='error')\n",
    "\n",
    "features_encoded = ohe.fit_transform(df[categorical_columns]).toarray()\n",
    "features_encoded_test = ohe.transform(df_test[categorical_columns]).toarray()\n",
    "\n",
    "# Add an unique suffix to the ohe labels in case they conflict with df feature labels\n",
    "features_labels = np.concatenate(np.array(ohe.categories_, dtype=object))\n",
    "features_labels = [label + '_ohe' for label in features_labels]\n",
    "\n",
    "\n",
    "df_encoded = pd.DataFrame(features_encoded, columns=features_labels)\n",
    "df_encoded_test = pd.DataFrame(features_encoded_test, columns=features_labels)\n",
    "df_encoded.head()"
   ]
  },
  {
   "cell_type": "code",
   "execution_count": 59,
   "metadata": {
    "colab": {
     "base_uri": "https://localhost:8080/",
     "height": 300
    },
    "id": "pKi0oDt2p2VI",
    "outputId": "a54cfb39-bf24-4c37-baab-ffc128043c34"
   },
   "outputs": [
    {
     "data": {
      "text/html": [
       "<div>\n",
       "<style scoped>\n",
       "    .dataframe tbody tr th:only-of-type {\n",
       "        vertical-align: middle;\n",
       "    }\n",
       "\n",
       "    .dataframe tbody tr th {\n",
       "        vertical-align: top;\n",
       "    }\n",
       "\n",
       "    .dataframe thead th {\n",
       "        text-align: right;\n",
       "    }\n",
       "</style>\n",
       "<table border=\"1\" class=\"dataframe\">\n",
       "  <thead>\n",
       "    <tr style=\"text-align: right;\">\n",
       "      <th></th>\n",
       "      <th>duration</th>\n",
       "      <th>src_bytes</th>\n",
       "      <th>dst_bytes</th>\n",
       "      <th>land</th>\n",
       "      <th>wrong_fragment</th>\n",
       "      <th>urgent</th>\n",
       "      <th>hot</th>\n",
       "      <th>num_failed_logins</th>\n",
       "      <th>logged_in</th>\n",
       "      <th>num_compromised</th>\n",
       "      <th>...</th>\n",
       "      <th>diff_srv_rate</th>\n",
       "      <th>srv_diff_host_rate</th>\n",
       "      <th>dst_host_count</th>\n",
       "      <th>dst_host_srv_count</th>\n",
       "      <th>dst_host_same_srv_rate</th>\n",
       "      <th>dst_host_diff_srv_rate</th>\n",
       "      <th>dst_host_same_src_port_rate</th>\n",
       "      <th>dst_host_srv_diff_host_rate</th>\n",
       "      <th>last_flag</th>\n",
       "      <th>srv_serror_rate</th>\n",
       "    </tr>\n",
       "  </thead>\n",
       "  <tbody>\n",
       "    <tr>\n",
       "      <th>0</th>\n",
       "      <td>0</td>\n",
       "      <td>491</td>\n",
       "      <td>0</td>\n",
       "      <td>0</td>\n",
       "      <td>0</td>\n",
       "      <td>0</td>\n",
       "      <td>0</td>\n",
       "      <td>0</td>\n",
       "      <td>0</td>\n",
       "      <td>0</td>\n",
       "      <td>...</td>\n",
       "      <td>0.00</td>\n",
       "      <td>0.00</td>\n",
       "      <td>150</td>\n",
       "      <td>25</td>\n",
       "      <td>0.17</td>\n",
       "      <td>0.03</td>\n",
       "      <td>0.17</td>\n",
       "      <td>0.00</td>\n",
       "      <td>20</td>\n",
       "      <td>0.0</td>\n",
       "    </tr>\n",
       "    <tr>\n",
       "      <th>1</th>\n",
       "      <td>0</td>\n",
       "      <td>146</td>\n",
       "      <td>0</td>\n",
       "      <td>0</td>\n",
       "      <td>0</td>\n",
       "      <td>0</td>\n",
       "      <td>0</td>\n",
       "      <td>0</td>\n",
       "      <td>0</td>\n",
       "      <td>0</td>\n",
       "      <td>...</td>\n",
       "      <td>0.15</td>\n",
       "      <td>0.00</td>\n",
       "      <td>255</td>\n",
       "      <td>1</td>\n",
       "      <td>0.00</td>\n",
       "      <td>0.60</td>\n",
       "      <td>0.88</td>\n",
       "      <td>0.00</td>\n",
       "      <td>15</td>\n",
       "      <td>0.0</td>\n",
       "    </tr>\n",
       "    <tr>\n",
       "      <th>2</th>\n",
       "      <td>0</td>\n",
       "      <td>0</td>\n",
       "      <td>0</td>\n",
       "      <td>0</td>\n",
       "      <td>0</td>\n",
       "      <td>0</td>\n",
       "      <td>0</td>\n",
       "      <td>0</td>\n",
       "      <td>0</td>\n",
       "      <td>0</td>\n",
       "      <td>...</td>\n",
       "      <td>0.07</td>\n",
       "      <td>0.00</td>\n",
       "      <td>255</td>\n",
       "      <td>26</td>\n",
       "      <td>0.10</td>\n",
       "      <td>0.05</td>\n",
       "      <td>0.00</td>\n",
       "      <td>0.00</td>\n",
       "      <td>19</td>\n",
       "      <td>1.0</td>\n",
       "    </tr>\n",
       "    <tr>\n",
       "      <th>3</th>\n",
       "      <td>0</td>\n",
       "      <td>232</td>\n",
       "      <td>8153</td>\n",
       "      <td>0</td>\n",
       "      <td>0</td>\n",
       "      <td>0</td>\n",
       "      <td>0</td>\n",
       "      <td>0</td>\n",
       "      <td>1</td>\n",
       "      <td>0</td>\n",
       "      <td>...</td>\n",
       "      <td>0.00</td>\n",
       "      <td>0.00</td>\n",
       "      <td>30</td>\n",
       "      <td>255</td>\n",
       "      <td>1.00</td>\n",
       "      <td>0.00</td>\n",
       "      <td>0.03</td>\n",
       "      <td>0.04</td>\n",
       "      <td>21</td>\n",
       "      <td>0.2</td>\n",
       "    </tr>\n",
       "    <tr>\n",
       "      <th>4</th>\n",
       "      <td>0</td>\n",
       "      <td>199</td>\n",
       "      <td>420</td>\n",
       "      <td>0</td>\n",
       "      <td>0</td>\n",
       "      <td>0</td>\n",
       "      <td>0</td>\n",
       "      <td>0</td>\n",
       "      <td>1</td>\n",
       "      <td>0</td>\n",
       "      <td>...</td>\n",
       "      <td>0.00</td>\n",
       "      <td>0.09</td>\n",
       "      <td>255</td>\n",
       "      <td>255</td>\n",
       "      <td>1.00</td>\n",
       "      <td>0.00</td>\n",
       "      <td>0.00</td>\n",
       "      <td>0.00</td>\n",
       "      <td>21</td>\n",
       "      <td>0.0</td>\n",
       "    </tr>\n",
       "  </tbody>\n",
       "</table>\n",
       "<p>5 rows × 33 columns</p>\n",
       "</div>"
      ],
      "text/plain": [
       "   duration  src_bytes  dst_bytes  land  wrong_fragment  urgent  hot  \\\n",
       "0         0        491          0     0               0       0    0   \n",
       "1         0        146          0     0               0       0    0   \n",
       "2         0          0          0     0               0       0    0   \n",
       "3         0        232       8153     0               0       0    0   \n",
       "4         0        199        420     0               0       0    0   \n",
       "\n",
       "   num_failed_logins  logged_in  num_compromised  ...  diff_srv_rate  \\\n",
       "0                  0          0                0  ...           0.00   \n",
       "1                  0          0                0  ...           0.15   \n",
       "2                  0          0                0  ...           0.07   \n",
       "3                  0          1                0  ...           0.00   \n",
       "4                  0          1                0  ...           0.00   \n",
       "\n",
       "   srv_diff_host_rate  dst_host_count  dst_host_srv_count  \\\n",
       "0                0.00             150                  25   \n",
       "1                0.00             255                   1   \n",
       "2                0.00             255                  26   \n",
       "3                0.00              30                 255   \n",
       "4                0.09             255                 255   \n",
       "\n",
       "   dst_host_same_srv_rate  dst_host_diff_srv_rate  \\\n",
       "0                    0.17                    0.03   \n",
       "1                    0.00                    0.60   \n",
       "2                    0.10                    0.05   \n",
       "3                    1.00                    0.00   \n",
       "4                    1.00                    0.00   \n",
       "\n",
       "   dst_host_same_src_port_rate  dst_host_srv_diff_host_rate  last_flag  \\\n",
       "0                         0.17                         0.00         20   \n",
       "1                         0.88                         0.00         15   \n",
       "2                         0.00                         0.00         19   \n",
       "3                         0.03                         0.04         21   \n",
       "4                         0.00                         0.00         21   \n",
       "\n",
       "   srv_serror_rate  \n",
       "0              0.0  \n",
       "1              0.0  \n",
       "2              1.0  \n",
       "3              0.2  \n",
       "4              0.0  \n",
       "\n",
       "[5 rows x 33 columns]"
      ]
     },
     "execution_count": 59,
     "metadata": {},
     "output_type": "execute_result"
    }
   ],
   "source": [
    "df[continuous_columns].head()"
   ]
  },
  {
   "cell_type": "markdown",
   "metadata": {
    "id": "-1s8ClqW3io5"
   },
   "source": [
    "# Standardizing\n",
    "\n",
    "Every columns that is not categorical we assume to be a continuous variable that we scale to N(0,1) using sklearn <em>StandardScaler</em>"
   ]
  },
  {
   "cell_type": "code",
   "execution_count": 60,
   "metadata": {
    "colab": {
     "base_uri": "https://localhost:8080/",
     "height": 300
    },
    "id": "Y1D9rOfT3io5",
    "outputId": "a697b4b0-546e-461a-e872-2c95c0739e53"
   },
   "outputs": [
    {
     "data": {
      "text/html": [
       "<div>\n",
       "<style scoped>\n",
       "    .dataframe tbody tr th:only-of-type {\n",
       "        vertical-align: middle;\n",
       "    }\n",
       "\n",
       "    .dataframe tbody tr th {\n",
       "        vertical-align: top;\n",
       "    }\n",
       "\n",
       "    .dataframe thead th {\n",
       "        text-align: right;\n",
       "    }\n",
       "</style>\n",
       "<table border=\"1\" class=\"dataframe\">\n",
       "  <thead>\n",
       "    <tr style=\"text-align: right;\">\n",
       "      <th></th>\n",
       "      <th>duration</th>\n",
       "      <th>src_bytes</th>\n",
       "      <th>dst_bytes</th>\n",
       "      <th>land</th>\n",
       "      <th>wrong_fragment</th>\n",
       "      <th>urgent</th>\n",
       "      <th>hot</th>\n",
       "      <th>num_failed_logins</th>\n",
       "      <th>logged_in</th>\n",
       "      <th>num_compromised</th>\n",
       "      <th>...</th>\n",
       "      <th>diff_srv_rate</th>\n",
       "      <th>srv_diff_host_rate</th>\n",
       "      <th>dst_host_count</th>\n",
       "      <th>dst_host_srv_count</th>\n",
       "      <th>dst_host_same_srv_rate</th>\n",
       "      <th>dst_host_diff_srv_rate</th>\n",
       "      <th>dst_host_same_src_port_rate</th>\n",
       "      <th>dst_host_srv_diff_host_rate</th>\n",
       "      <th>last_flag</th>\n",
       "      <th>srv_serror_rate</th>\n",
       "    </tr>\n",
       "  </thead>\n",
       "  <tbody>\n",
       "    <tr>\n",
       "      <th>0</th>\n",
       "      <td>-0.110249</td>\n",
       "      <td>-0.007679</td>\n",
       "      <td>-0.004919</td>\n",
       "      <td>-0.014089</td>\n",
       "      <td>-0.089486</td>\n",
       "      <td>-0.007736</td>\n",
       "      <td>-0.095076</td>\n",
       "      <td>-0.027023</td>\n",
       "      <td>-0.809262</td>\n",
       "      <td>-0.011664</td>\n",
       "      <td>...</td>\n",
       "      <td>-0.349683</td>\n",
       "      <td>-0.374560</td>\n",
       "      <td>-0.324063</td>\n",
       "      <td>-0.818890</td>\n",
       "      <td>-0.782367</td>\n",
       "      <td>-0.280282</td>\n",
       "      <td>0.069972</td>\n",
       "      <td>-0.289103</td>\n",
       "      <td>0.216426</td>\n",
       "      <td>-0.631929</td>\n",
       "    </tr>\n",
       "    <tr>\n",
       "      <th>1</th>\n",
       "      <td>-0.110249</td>\n",
       "      <td>-0.007737</td>\n",
       "      <td>-0.004919</td>\n",
       "      <td>-0.014089</td>\n",
       "      <td>-0.089486</td>\n",
       "      <td>-0.007736</td>\n",
       "      <td>-0.095076</td>\n",
       "      <td>-0.027023</td>\n",
       "      <td>-0.809262</td>\n",
       "      <td>-0.011664</td>\n",
       "      <td>...</td>\n",
       "      <td>0.482201</td>\n",
       "      <td>-0.374560</td>\n",
       "      <td>0.734343</td>\n",
       "      <td>-1.035688</td>\n",
       "      <td>-1.161030</td>\n",
       "      <td>2.736852</td>\n",
       "      <td>2.367737</td>\n",
       "      <td>-0.289103</td>\n",
       "      <td>-1.965556</td>\n",
       "      <td>-0.631929</td>\n",
       "    </tr>\n",
       "    <tr>\n",
       "      <th>2</th>\n",
       "      <td>-0.110249</td>\n",
       "      <td>-0.007762</td>\n",
       "      <td>-0.004919</td>\n",
       "      <td>-0.014089</td>\n",
       "      <td>-0.089486</td>\n",
       "      <td>-0.007736</td>\n",
       "      <td>-0.095076</td>\n",
       "      <td>-0.027023</td>\n",
       "      <td>-0.809262</td>\n",
       "      <td>-0.011664</td>\n",
       "      <td>...</td>\n",
       "      <td>0.038529</td>\n",
       "      <td>-0.374560</td>\n",
       "      <td>0.734343</td>\n",
       "      <td>-0.809857</td>\n",
       "      <td>-0.938287</td>\n",
       "      <td>-0.174417</td>\n",
       "      <td>-0.480197</td>\n",
       "      <td>-0.289103</td>\n",
       "      <td>-0.219970</td>\n",
       "      <td>1.605104</td>\n",
       "    </tr>\n",
       "    <tr>\n",
       "      <th>3</th>\n",
       "      <td>-0.110249</td>\n",
       "      <td>-0.007723</td>\n",
       "      <td>-0.002891</td>\n",
       "      <td>-0.014089</td>\n",
       "      <td>-0.089486</td>\n",
       "      <td>-0.007736</td>\n",
       "      <td>-0.095076</td>\n",
       "      <td>-0.027023</td>\n",
       "      <td>1.235694</td>\n",
       "      <td>-0.011664</td>\n",
       "      <td>...</td>\n",
       "      <td>-0.349683</td>\n",
       "      <td>-0.374560</td>\n",
       "      <td>-1.533670</td>\n",
       "      <td>1.258754</td>\n",
       "      <td>1.066401</td>\n",
       "      <td>-0.439078</td>\n",
       "      <td>-0.383108</td>\n",
       "      <td>0.066252</td>\n",
       "      <td>0.652823</td>\n",
       "      <td>-0.184522</td>\n",
       "    </tr>\n",
       "    <tr>\n",
       "      <th>4</th>\n",
       "      <td>-0.110249</td>\n",
       "      <td>-0.007728</td>\n",
       "      <td>-0.004814</td>\n",
       "      <td>-0.014089</td>\n",
       "      <td>-0.089486</td>\n",
       "      <td>-0.007736</td>\n",
       "      <td>-0.095076</td>\n",
       "      <td>-0.027023</td>\n",
       "      <td>1.235694</td>\n",
       "      <td>-0.011664</td>\n",
       "      <td>...</td>\n",
       "      <td>-0.349683</td>\n",
       "      <td>-0.028179</td>\n",
       "      <td>0.734343</td>\n",
       "      <td>1.258754</td>\n",
       "      <td>1.066401</td>\n",
       "      <td>-0.439078</td>\n",
       "      <td>-0.480197</td>\n",
       "      <td>-0.289103</td>\n",
       "      <td>0.652823</td>\n",
       "      <td>-0.631929</td>\n",
       "    </tr>\n",
       "  </tbody>\n",
       "</table>\n",
       "<p>5 rows × 33 columns</p>\n",
       "</div>"
      ],
      "text/plain": [
       "   duration  src_bytes  dst_bytes      land  wrong_fragment    urgent  \\\n",
       "0 -0.110249  -0.007679  -0.004919 -0.014089       -0.089486 -0.007736   \n",
       "1 -0.110249  -0.007737  -0.004919 -0.014089       -0.089486 -0.007736   \n",
       "2 -0.110249  -0.007762  -0.004919 -0.014089       -0.089486 -0.007736   \n",
       "3 -0.110249  -0.007723  -0.002891 -0.014089       -0.089486 -0.007736   \n",
       "4 -0.110249  -0.007728  -0.004814 -0.014089       -0.089486 -0.007736   \n",
       "\n",
       "        hot  num_failed_logins  logged_in  num_compromised  ...  \\\n",
       "0 -0.095076          -0.027023  -0.809262        -0.011664  ...   \n",
       "1 -0.095076          -0.027023  -0.809262        -0.011664  ...   \n",
       "2 -0.095076          -0.027023  -0.809262        -0.011664  ...   \n",
       "3 -0.095076          -0.027023   1.235694        -0.011664  ...   \n",
       "4 -0.095076          -0.027023   1.235694        -0.011664  ...   \n",
       "\n",
       "   diff_srv_rate  srv_diff_host_rate  dst_host_count  dst_host_srv_count  \\\n",
       "0      -0.349683           -0.374560       -0.324063           -0.818890   \n",
       "1       0.482201           -0.374560        0.734343           -1.035688   \n",
       "2       0.038529           -0.374560        0.734343           -0.809857   \n",
       "3      -0.349683           -0.374560       -1.533670            1.258754   \n",
       "4      -0.349683           -0.028179        0.734343            1.258754   \n",
       "\n",
       "   dst_host_same_srv_rate  dst_host_diff_srv_rate  \\\n",
       "0               -0.782367               -0.280282   \n",
       "1               -1.161030                2.736852   \n",
       "2               -0.938287               -0.174417   \n",
       "3                1.066401               -0.439078   \n",
       "4                1.066401               -0.439078   \n",
       "\n",
       "   dst_host_same_src_port_rate  dst_host_srv_diff_host_rate  last_flag  \\\n",
       "0                     0.069972                    -0.289103   0.216426   \n",
       "1                     2.367737                    -0.289103  -1.965556   \n",
       "2                    -0.480197                    -0.289103  -0.219970   \n",
       "3                    -0.383108                     0.066252   0.652823   \n",
       "4                    -0.480197                    -0.289103   0.652823   \n",
       "\n",
       "   srv_serror_rate  \n",
       "0        -0.631929  \n",
       "1        -0.631929  \n",
       "2         1.605104  \n",
       "3        -0.184522  \n",
       "4        -0.631929  \n",
       "\n",
       "[5 rows x 33 columns]"
      ]
     },
     "execution_count": 60,
     "metadata": {},
     "output_type": "execute_result"
    }
   ],
   "source": [
    "scaler = StandardScaler()\n",
    "scaled_columns  = scaler.fit_transform(df[continuous_columns])\n",
    "scaled_columns_test  = scaler.transform(df_test[continuous_columns])\n",
    "\n",
    "df_scaled = pd.DataFrame(scaled_columns, columns=continuous_columns)\n",
    "df_scaled_test = pd.DataFrame(scaled_columns_test, columns=continuous_columns)\n",
    "df_scaled.head()"
   ]
  },
  {
   "cell_type": "markdown",
   "metadata": {
    "id": "emZi7GIu0gBk"
   },
   "source": [
    "Pipeline object to preprocess data faster"
   ]
  },
  {
   "cell_type": "code",
   "execution_count": 61,
   "metadata": {
    "colab": {
     "base_uri": "https://localhost:8080/"
    },
    "id": "1XQM1CuYhZ0v",
    "outputId": "515eadb3-5037-49d0-ea67-ad11782f4500"
   },
   "outputs": [
    {
     "data": {
      "text/plain": [
       "array([[-0.11024922, -0.00776224, -0.00491864, ...,  0.        ,\n",
       "         0.        ,  0.        ],\n",
       "       [-0.11024922, -0.00776224, -0.00491864, ...,  0.        ,\n",
       "         0.        ,  0.        ],\n",
       "       [-0.10948132, -0.0055506 , -0.00491864, ...,  0.        ,\n",
       "         1.        ,  0.        ],\n",
       "       ...,\n",
       "       [-0.11024922, -0.00775475, -0.00489054, ...,  0.        ,\n",
       "         1.        ,  0.        ],\n",
       "       [-0.11024922, -0.00776224, -0.00491864, ...,  0.        ,\n",
       "         0.        ,  1.        ],\n",
       "       [-0.11024922, -0.00776224, -0.00491864, ...,  0.        ,\n",
       "         0.        ,  0.        ]])"
      ]
     },
     "execution_count": 61,
     "metadata": {},
     "output_type": "execute_result"
    }
   ],
   "source": [
    "numeric_pipeline = Pipeline(steps=[\n",
    "    ('scale', scaler)\n",
    "])\n",
    "\n",
    "categorical_pipeline = Pipeline(steps=[\n",
    "    ('one-hot', ohe)\n",
    "])\n",
    "\n",
    "\n",
    "from sklearn.compose import ColumnTransformer\n",
    "\n",
    "full_processor = ColumnTransformer(transformers=[\n",
    "    ('number', numeric_pipeline, continuous_columns),\n",
    "    ('category', categorical_pipeline, categorical_columns)\n",
    "])\n",
    "\n",
    "X = df.drop('attack', axis=1)\n",
    "X_test = df_test\n",
    "\n",
    "full_processor.fit(X)\n",
    "full_processor.transform(X)\n",
    "full_processor.transform(X_test)"
   ]
  },
  {
   "cell_type": "markdown",
   "metadata": {
    "id": "EdDJD1d83io6"
   },
   "source": [
    "Then we concatenate the df without categorical columns with the onehot encoded columns."
   ]
  },
  {
   "cell_type": "code",
   "execution_count": 62,
   "metadata": {
    "colab": {
     "base_uri": "https://localhost:8080/",
     "height": 300
    },
    "id": "vqC3Tdrl3io6",
    "outputId": "8da8ad14-c7ea-4d7e-9ba2-bea9b96d1291"
   },
   "outputs": [
    {
     "data": {
      "text/html": [
       "<div>\n",
       "<style scoped>\n",
       "    .dataframe tbody tr th:only-of-type {\n",
       "        vertical-align: middle;\n",
       "    }\n",
       "\n",
       "    .dataframe tbody tr th {\n",
       "        vertical-align: top;\n",
       "    }\n",
       "\n",
       "    .dataframe thead th {\n",
       "        text-align: right;\n",
       "    }\n",
       "</style>\n",
       "<table border=\"1\" class=\"dataframe\">\n",
       "  <thead>\n",
       "    <tr style=\"text-align: right;\">\n",
       "      <th></th>\n",
       "      <th>icmp_ohe</th>\n",
       "      <th>tcp_ohe</th>\n",
       "      <th>udp_ohe</th>\n",
       "      <th>IRC_ohe</th>\n",
       "      <th>X11_ohe</th>\n",
       "      <th>Z39_50_ohe</th>\n",
       "      <th>aol_ohe</th>\n",
       "      <th>auth_ohe</th>\n",
       "      <th>bgp_ohe</th>\n",
       "      <th>courier_ohe</th>\n",
       "      <th>...</th>\n",
       "      <th>srv_diff_host_rate</th>\n",
       "      <th>dst_host_count</th>\n",
       "      <th>dst_host_srv_count</th>\n",
       "      <th>dst_host_same_srv_rate</th>\n",
       "      <th>dst_host_diff_srv_rate</th>\n",
       "      <th>dst_host_same_src_port_rate</th>\n",
       "      <th>dst_host_srv_diff_host_rate</th>\n",
       "      <th>last_flag</th>\n",
       "      <th>srv_serror_rate</th>\n",
       "      <th>attack</th>\n",
       "    </tr>\n",
       "  </thead>\n",
       "  <tbody>\n",
       "    <tr>\n",
       "      <th>0</th>\n",
       "      <td>0.0</td>\n",
       "      <td>1.0</td>\n",
       "      <td>0.0</td>\n",
       "      <td>0.0</td>\n",
       "      <td>0.0</td>\n",
       "      <td>0.0</td>\n",
       "      <td>0.0</td>\n",
       "      <td>0.0</td>\n",
       "      <td>0.0</td>\n",
       "      <td>0.0</td>\n",
       "      <td>...</td>\n",
       "      <td>-0.374560</td>\n",
       "      <td>-0.324063</td>\n",
       "      <td>-0.818890</td>\n",
       "      <td>-0.782367</td>\n",
       "      <td>-0.280282</td>\n",
       "      <td>0.069972</td>\n",
       "      <td>-0.289103</td>\n",
       "      <td>0.216426</td>\n",
       "      <td>-0.631929</td>\n",
       "      <td>normal</td>\n",
       "    </tr>\n",
       "    <tr>\n",
       "      <th>1</th>\n",
       "      <td>0.0</td>\n",
       "      <td>0.0</td>\n",
       "      <td>1.0</td>\n",
       "      <td>0.0</td>\n",
       "      <td>0.0</td>\n",
       "      <td>0.0</td>\n",
       "      <td>0.0</td>\n",
       "      <td>0.0</td>\n",
       "      <td>0.0</td>\n",
       "      <td>0.0</td>\n",
       "      <td>...</td>\n",
       "      <td>-0.374560</td>\n",
       "      <td>0.734343</td>\n",
       "      <td>-1.035688</td>\n",
       "      <td>-1.161030</td>\n",
       "      <td>2.736852</td>\n",
       "      <td>2.367737</td>\n",
       "      <td>-0.289103</td>\n",
       "      <td>-1.965556</td>\n",
       "      <td>-0.631929</td>\n",
       "      <td>normal</td>\n",
       "    </tr>\n",
       "    <tr>\n",
       "      <th>2</th>\n",
       "      <td>0.0</td>\n",
       "      <td>1.0</td>\n",
       "      <td>0.0</td>\n",
       "      <td>0.0</td>\n",
       "      <td>0.0</td>\n",
       "      <td>0.0</td>\n",
       "      <td>0.0</td>\n",
       "      <td>0.0</td>\n",
       "      <td>0.0</td>\n",
       "      <td>0.0</td>\n",
       "      <td>...</td>\n",
       "      <td>-0.374560</td>\n",
       "      <td>0.734343</td>\n",
       "      <td>-0.809857</td>\n",
       "      <td>-0.938287</td>\n",
       "      <td>-0.174417</td>\n",
       "      <td>-0.480197</td>\n",
       "      <td>-0.289103</td>\n",
       "      <td>-0.219970</td>\n",
       "      <td>1.605104</td>\n",
       "      <td>neptune</td>\n",
       "    </tr>\n",
       "    <tr>\n",
       "      <th>3</th>\n",
       "      <td>0.0</td>\n",
       "      <td>1.0</td>\n",
       "      <td>0.0</td>\n",
       "      <td>0.0</td>\n",
       "      <td>0.0</td>\n",
       "      <td>0.0</td>\n",
       "      <td>0.0</td>\n",
       "      <td>0.0</td>\n",
       "      <td>0.0</td>\n",
       "      <td>0.0</td>\n",
       "      <td>...</td>\n",
       "      <td>-0.374560</td>\n",
       "      <td>-1.533670</td>\n",
       "      <td>1.258754</td>\n",
       "      <td>1.066401</td>\n",
       "      <td>-0.439078</td>\n",
       "      <td>-0.383108</td>\n",
       "      <td>0.066252</td>\n",
       "      <td>0.652823</td>\n",
       "      <td>-0.184522</td>\n",
       "      <td>normal</td>\n",
       "    </tr>\n",
       "    <tr>\n",
       "      <th>4</th>\n",
       "      <td>0.0</td>\n",
       "      <td>1.0</td>\n",
       "      <td>0.0</td>\n",
       "      <td>0.0</td>\n",
       "      <td>0.0</td>\n",
       "      <td>0.0</td>\n",
       "      <td>0.0</td>\n",
       "      <td>0.0</td>\n",
       "      <td>0.0</td>\n",
       "      <td>0.0</td>\n",
       "      <td>...</td>\n",
       "      <td>-0.028179</td>\n",
       "      <td>0.734343</td>\n",
       "      <td>1.258754</td>\n",
       "      <td>1.066401</td>\n",
       "      <td>-0.439078</td>\n",
       "      <td>-0.480197</td>\n",
       "      <td>-0.289103</td>\n",
       "      <td>0.652823</td>\n",
       "      <td>-0.631929</td>\n",
       "      <td>normal</td>\n",
       "    </tr>\n",
       "  </tbody>\n",
       "</table>\n",
       "<p>5 rows × 118 columns</p>\n",
       "</div>"
      ],
      "text/plain": [
       "   icmp_ohe  tcp_ohe  udp_ohe  IRC_ohe  X11_ohe  Z39_50_ohe  aol_ohe  \\\n",
       "0       0.0      1.0      0.0      0.0      0.0         0.0      0.0   \n",
       "1       0.0      0.0      1.0      0.0      0.0         0.0      0.0   \n",
       "2       0.0      1.0      0.0      0.0      0.0         0.0      0.0   \n",
       "3       0.0      1.0      0.0      0.0      0.0         0.0      0.0   \n",
       "4       0.0      1.0      0.0      0.0      0.0         0.0      0.0   \n",
       "\n",
       "   auth_ohe  bgp_ohe  courier_ohe  ...  srv_diff_host_rate  dst_host_count  \\\n",
       "0       0.0      0.0          0.0  ...           -0.374560       -0.324063   \n",
       "1       0.0      0.0          0.0  ...           -0.374560        0.734343   \n",
       "2       0.0      0.0          0.0  ...           -0.374560        0.734343   \n",
       "3       0.0      0.0          0.0  ...           -0.374560       -1.533670   \n",
       "4       0.0      0.0          0.0  ...           -0.028179        0.734343   \n",
       "\n",
       "   dst_host_srv_count  dst_host_same_srv_rate  dst_host_diff_srv_rate  \\\n",
       "0           -0.818890               -0.782367               -0.280282   \n",
       "1           -1.035688               -1.161030                2.736852   \n",
       "2           -0.809857               -0.938287               -0.174417   \n",
       "3            1.258754                1.066401               -0.439078   \n",
       "4            1.258754                1.066401               -0.439078   \n",
       "\n",
       "   dst_host_same_src_port_rate  dst_host_srv_diff_host_rate  last_flag  \\\n",
       "0                     0.069972                    -0.289103   0.216426   \n",
       "1                     2.367737                    -0.289103  -1.965556   \n",
       "2                    -0.480197                    -0.289103  -0.219970   \n",
       "3                    -0.383108                     0.066252   0.652823   \n",
       "4                    -0.480197                    -0.289103   0.652823   \n",
       "\n",
       "   srv_serror_rate   attack  \n",
       "0        -0.631929   normal  \n",
       "1        -0.631929   normal  \n",
       "2         1.605104  neptune  \n",
       "3        -0.184522   normal  \n",
       "4        -0.631929   normal  \n",
       "\n",
       "[5 rows x 118 columns]"
      ]
     },
     "execution_count": 62,
     "metadata": {},
     "output_type": "execute_result"
    }
   ],
   "source": [
    "df_preprocessed = pd.concat([df_encoded, df_scaled, df['attack']], axis=1)\n",
    "df_preprocessed.head()"
   ]
  },
  {
   "cell_type": "code",
   "execution_count": 63,
   "metadata": {
    "colab": {
     "base_uri": "https://localhost:8080/",
     "height": 1000
    },
    "id": "2IwmCQWt3io6",
    "outputId": "f04083e3-8634-4ecd-f8fc-d5a66644b651"
   },
   "outputs": [
    {
     "data": {
      "image/png": "[encoded data removed]",
      "text/plain": [
       "<Figure size 1440x1440 with 33 Axes>"
      ]
     },
     "metadata": {
      "needs_background": "light"
     },
     "output_type": "display_data"
    }
   ],
   "source": [
    "def plot_histogram_matrix(df, columns):\n",
    "  Tot = len(columns)\n",
    "  Cols = int(np.sqrt(len(columns)))\n",
    "\n",
    "  # Compute Rows required\n",
    "  Rows = Tot // Cols \n",
    "  if Tot % Cols != 0:\n",
    "      Rows += 1\n",
    "  # Create a Position index\n",
    "  Position = range(1,Tot + 1)\n",
    "\n",
    "  fig = plt.figure(figsize=(20,20))\n",
    "  for k in range(len(columns)):\n",
    "      ax = fig.add_subplot(Rows,Cols,Position[k])\n",
    "      counts, bins = np.histogram(df[columns[k]])\n",
    "      #sns.histplot(data=df[columns[k]])\n",
    "      plt.hist(bins[:-1], bins, weights=counts)\n",
    "      plt.title(columns[k])\n",
    "  plt.tight_layout()\n",
    "\n",
    "plot_histogram_matrix(df_preprocessed, continuous_columns)"
   ]
  },
  {
   "cell_type": "markdown",
   "metadata": {
    "id": "8hx3si0n3io7"
   },
   "source": [
    "We counted the number of attacks of each type in our dataset:"
   ]
  },
  {
   "cell_type": "code",
   "execution_count": 64,
   "metadata": {
    "colab": {
     "base_uri": "https://localhost:8080/"
    },
    "id": "QBiWaebx3io8",
    "outputId": "21a04f82-f53e-4c3b-e767-b8fb052234ba"
   },
   "outputs": [
    {
     "data": {
      "text/plain": [
       "normal             67343\n",
       "neptune            41214\n",
       "satan               3633\n",
       "ipsweep             3599\n",
       "portsweep           2931\n",
       "smurf               2646\n",
       "nmap                1493\n",
       "back                 956\n",
       "teardrop             892\n",
       "warezclient          890\n",
       "pod                  201\n",
       "guess_passwd          53\n",
       "buffer_overflow       30\n",
       "warezmaster           20\n",
       "land                  18\n",
       "imap                  11\n",
       "rootkit               10\n",
       "loadmodule             9\n",
       "ftp_write              8\n",
       "multihop               7\n",
       "phf                    4\n",
       "perl                   3\n",
       "spy                    2\n",
       "Name: attack, dtype: int64"
      ]
     },
     "execution_count": 64,
     "metadata": {},
     "output_type": "execute_result"
    }
   ],
   "source": [
    "df['attack'].value_counts()"
   ]
  },
  {
   "cell_type": "code",
   "execution_count": 65,
   "metadata": {
    "id": "WD_5qPRW3io8"
   },
   "outputs": [],
   "source": [
    "#Visualization\n",
    "def bar_graph(feature):\n",
    "    df[feature].value_counts().plot(kind=\"bar\")"
   ]
  },
  {
   "cell_type": "markdown",
   "metadata": {
    "id": "Uo71ZLugCpZK"
   },
   "source": [
    "We plot the count of the different attack types as a bar graph"
   ]
  },
  {
   "cell_type": "code",
   "execution_count": 66,
   "metadata": {
    "colab": {
     "base_uri": "https://localhost:8080/",
     "height": 459
    },
    "id": "dpN1elt73io9",
    "outputId": "ff248c0e-50b9-4dc3-a214-054cf9809576"
   },
   "outputs": [
    {
     "data": {
      "image/png": "[encoded data removed]",
      "text/plain": [
       "<Figure size 1440x504 with 1 Axes>"
      ]
     },
     "metadata": {
      "needs_background": "light"
     },
     "output_type": "display_data"
    }
   ],
   "source": [
    "f, ax = plt.subplots(figsize=(20,7))\n",
    "total = len(df) * 1\n",
    "\n",
    "ax = sns.countplot(x=\"attack\", data=df)\n",
    "\n",
    "for p in ax.patches:\n",
    "        ax.annotate('{:.1f}%'.format(100*p.get_height()/total), (p.get_x(), p.get_height()))\n",
    " \n",
    "ax.yaxis.set_ticks(np.linspace(0, total, 11))\n",
    "\n",
    "ax.set_yticklabels(map('{:.1f}%'.format, 100*ax.yaxis.get_majorticklocs()/total))\n",
    "\n",
    "plt.title(\"Distribution of y_i in training data\")\n",
    "plt.grid()\n",
    "plt.show()"
   ]
  },
  {
   "cell_type": "markdown",
   "metadata": {
    "id": "71Z3VRVt3ipB"
   },
   "source": [
    "We are displaying the cells that succesfully logged_in with \"1\" and the ones that didn't with \"0\"\n",
    "We can notice that 50000 managed to log in in comparison with around 7500 which didn't"
   ]
  },
  {
   "cell_type": "markdown",
   "metadata": {
    "id": "zk2J6zyy3ipC"
   },
   "source": [
    "In this part, we are classifing our data into 5 categories: normal, dos, probe, r2l, u2r.\n"
   ]
  },
  {
   "cell_type": "code",
   "execution_count": 67,
   "metadata": {
    "id": "C-psvfnE3ipC"
   },
   "outputs": [],
   "source": [
    "# creating a function to give label\n",
    "def labeling(x):\n",
    "  if x == 'normal':\n",
    "    return 0\n",
    "  else:\n",
    "    return 1\n",
    "\n",
    "def labeling_attack_categories(x):\n",
    "  dos = ['back', 'land', 'neptune', 'pod', 'smurf', 'teardrop', 'apache2', 'updstorm', 'processtable', 'worm']\n",
    "  probe = ['satan', 'ipsweep', 'nmap', 'portsweep', 'mscan', 'saint']\n",
    "  r2l = ['guess_password' 'ftp_write', 'imap', 'phf', 'multihop', 'warezmaster', 'warezclient', 'spy', 'xlock', 'xsnoop', 'snmpguess', 'snmpgetattack', 'httptunnel', 'sendmail', 'named']\n",
    "  u2r = ['buffer_overflow', 'loadmodule', 'rootkit', 'perl', 'sqlattack', 'xtem', 'ps']\n",
    "\n",
    "  if x in dos:\n",
    "    return 'dos'\n",
    "  elif x in probe:\n",
    "    return 'probe'\n",
    "  elif x in r2l:\n",
    "    return 'r2l'\n",
    "  elif x in u2r:\n",
    "    return 'u2r'\n",
    "  else:\n",
    "    return 'normal'\n",
    "    \n",
    "#stroing all the attack in the variable label    \n",
    "label = df_preprocessed['attack'] \n",
    "\n",
    "# mapping all the attack to the desired output which is 0 and 1 \n",
    "class_label = label.map(labeling_attack_categories)\n",
    "\n",
    "#creating a new column called label in the training data\n",
    "#df_preprocessed.drop('attack', axis=1, inplace=True)\n",
    "df_preprocessed['attack'] = class_label\n",
    "\n"
   ]
  },
  {
   "cell_type": "markdown",
   "metadata": {
    "id": "y1PsGD8p3ipD"
   },
   "source": [
    "After creating and vizualizing the new column we will plot the distribution of class 1 and class 0 for having a better overview of our data"
   ]
  },
  {
   "cell_type": "code",
   "execution_count": 68,
   "metadata": {
    "colab": {
     "base_uri": "https://localhost:8080/",
     "height": 404
    },
    "id": "KvPUgzeU3ipD",
    "outputId": "07253ddd-01ad-4b2e-bfe3-2e3e1e44b4ee"
   },
   "outputs": [
    {
     "data": {
      "image/png": "[encoded data removed]",
      "text/plain": [
       "<Figure size 864x432 with 1 Axes>"
      ]
     },
     "metadata": {
      "needs_background": "light"
     },
     "output_type": "display_data"
    }
   ],
   "source": [
    "# distribution plot of class 1 and class 0\n",
    "f, ax = plt.subplots(figsize=(12,6))\n",
    "ax = sns.countplot(x='attack', data=df_preprocessed, hue='attack')\n",
    "plt.title(\"Normal and attack distribution\")\n",
    "plt.grid()\n",
    "plt.show()\n"
   ]
  },
  {
   "cell_type": "markdown",
   "metadata": {
    "id": "M9e6TvAE9WNQ"
   },
   "source": [
    "## Train-Test Split\n"
   ]
  },
  {
   "cell_type": "code",
   "execution_count": 69,
   "metadata": {
    "colab": {
     "base_uri": "https://localhost:8080/"
    },
    "id": "xcQVBUBA3ipD",
    "outputId": "ce28f57c-efb3-4183-e64f-0178291595ef"
   },
   "outputs": [
    {
     "name": "stdout",
     "output_type": "stream",
     "text": [
      "(100778, 117) (25195, 117)\n",
      "(100778,) (25195,)\n"
     ]
    }
   ],
   "source": [
    "X = df_preprocessed.drop('attack', axis = 1)\n",
    "y = df_preprocessed['attack']\n",
    "#X = df.drop('attack', axis=1)\n",
    "#y = df['attack']\n",
    "X_train, X_test, y_train, y_test = train_test_split(X, y, test_size=0.2, random_state=25)\n",
    "\n",
    "print(X_train.shape, X_test.shape)\n",
    "print(y_train.shape, y_test.shape)"
   ]
  },
  {
   "cell_type": "markdown",
   "metadata": {
    "id": "7LJzqF_M9P5Y"
   },
   "source": [
    "Helper function to evaluate every model in the same way"
   ]
  },
  {
   "cell_type": "code",
   "execution_count": 70,
   "metadata": {
    "id": "lhJp0PdxMX3z"
   },
   "outputs": [],
   "source": [
    "def evaluate_model(model, X_train, y_train, X_test, y_test):\n",
    "  start_time = time.time()\n",
    "  model.predict(X_train) # Run predict on train data to measure time required for prediction\n",
    "\n",
    "  time_predict = time.time()-start_time\n",
    "  train_score = model.score(X_train, y_train)\n",
    "  test_score = model.score(X_test, y_test)\n",
    "  return time_predict, train_score, test_score\n",
    "\n",
    "model_eval_data = dict()\n",
    "conf_mat = dict()\n",
    "from sklearn.metrics import confusion_matrix"
   ]
  },
  {
   "cell_type": "markdown",
   "metadata": {
    "id": "SHZtkAvbpZGF"
   },
   "source": [
    "# Model selection\n",
    "We will visualy compare the model perforance so that we can decide on the model that is best suited to our purpose.\n",
    "## Fitting the various models\n",
    "We will fit each of the models to the data and save their confusion matrices and their performance for comparison later down the notebook."
   ]
  },
  {
   "cell_type": "markdown",
   "metadata": {
    "id": "w3DVoRAa_Yb4"
   },
   "source": [
    "**Code: Python implementation of Gaussian Naive Bayes**"
   ]
  },
  {
   "cell_type": "markdown",
   "metadata": {},
   "source": [
    "Naive Bayes are a group of supervised machine learning classification algorithms based on the Bayes theorem. It is a simple classification technique, but has high functionality. They find use when the dimensionality of the inputs is high. Complex classification problems can also be implemented by using Naive Bayes Classifier.Naive Bayes makes the assumption that the features are independent. This means that we are still assuming class-specific covariance matrices , but the covariance matrices are diagonal matrices. This is due to the assumption that the features are independent. Gaussian Naive Bayes supports continuous valued features and models each as conforming to a Gaussian (normal) distribution.\n",
    "An approach to create a simple model is to assume that the data is described by a Gaussian distribution with no co-variance (independent dimensions) between dimensions. This model can be fit by simply finding the mean and standard deviation of the points within each label, which is all what is needed to define such a distribution."
   ]
  },
  {
   "cell_type": "code",
   "execution_count": 71,
   "metadata": {
    "colab": {
     "base_uri": "https://localhost:8080/"
    },
    "id": "L8DSnx4r8rhd",
    "outputId": "7f12f14c-aac3-4afb-c526-c75e3e0bbb78"
   },
   "outputs": [
    {
     "name": "stdout",
     "output_type": "stream",
     "text": [
      "Training time: 0.23s\n",
      "Testing time: 0.16s\n",
      "Train score 0.68\n",
      "Test score: 0.68\n"
     ]
    }
   ],
   "source": [
    "# Gaussian Naive Bayes\n",
    "from sklearn.naive_bayes import GaussianNB\n",
    "from sklearn.metrics import accuracy_score\n",
    "\n",
    "model_gnb = GaussianNB()\n",
    "start_time = time.time()\n",
    "model_gnb.fit(X_train, y_train.values.ravel())\n",
    "time_train = time.time()-start_time\n",
    "\n",
    "y_pred_test = model_gnb.predict(X_test)\n",
    "conf_mat['gnb'] = confusion_matrix(y_test, y_pred_test)\n",
    "\n",
    "time_predict, train_score, test_score = evaluate_model(model_gnb, X_train, y_train, X_test, y_test)\n",
    "\n",
    "model_eval_data['gnb'] = {'time_train': time_train,\n",
    "                          'time_predict': time_predict,\n",
    "                          'train_score': train_score,\n",
    "                          'test_score': test_score}\n",
    "\n",
    "\n",
    "print(f\"Training time: {model_eval_data['gnb']['time_train']:.2f}s\")\n",
    "print(f\"Testing time: {model_eval_data['gnb']['time_predict']:.2f}s\")\n",
    "print(f\"Train score {model_eval_data['gnb']['train_score']:.2f}\")\n",
    "print(f\"Test score: {model_eval_data['gnb']['test_score']:.2f}\")\n",
    "\n"
   ]
  },
  {
   "cell_type": "markdown",
   "metadata": {
    "id": "g7E1lNbEnEaz"
   },
   "source": [
    "**Code: Python implementation of Decision Tree**"
   ]
  },
  {
   "cell_type": "markdown",
   "metadata": {},
   "source": [
    "Decision Tree is a Supervised learning technique that can be used for both classification and Regression problems, but mostly it is preferred for solving Classification problems. It is a tree-structured classifier, where internal nodes represent the features of a dataset, branches represent the decision rules and each leaf node represents the outcome.\n",
    "In a decision tree, for predicting the class of the given dataset, the algorithm starts from the root node of the tree. This algorithm compares the values of root attribute with the record (real dataset) attribute and, based on the comparison, follows the branch and jumps to the next node.For the next node, the algorithm again compares the attribute value with the other sub-nodes and move further. It continues the process until it reaches the leaf node of the tree.\n"
   ]
  },
  {
   "cell_type": "code",
   "execution_count": 72,
   "metadata": {
    "colab": {
     "base_uri": "https://localhost:8080/"
    },
    "id": "RbxCPCqam_q8",
    "outputId": "e550e934-dff1-48f5-ecbf-505e4dc80260"
   },
   "outputs": [
    {
     "name": "stdout",
     "output_type": "stream",
     "text": [
      "Training time: 0.29s\n",
      "Testing time: 0.01s\n",
      "Train score 0.98\n",
      "Test score: 0.98\n"
     ]
    }
   ],
   "source": [
    "# Decision Tree \n",
    "from sklearn.tree import DecisionTreeClassifier\n",
    "\n",
    "model_dt = DecisionTreeClassifier(criterion =\"entropy\", max_depth = 4)\n",
    "start_time = time.time()\n",
    "model_dt.fit(X_train, y_train.values.ravel())\n",
    "time_train = time.time()-start_time\n",
    "\n",
    "y_pred_test = model_dt.predict(X_test)\n",
    "conf_mat['gb'] = confusion_matrix(y_test, y_pred_test)\n",
    "\n",
    "time_predict, train_score, test_score = evaluate_model(model_dt, X_train, y_train, X_test, y_test)\n",
    "\n",
    "model_eval_data['dt'] = {'time_train': time_train,\n",
    "                          'time_predict': time_predict,\n",
    "                          'train_score': train_score,\n",
    "                          'test_score': test_score}\n",
    "\n",
    "print(f\"Training time: {model_eval_data['dt']['time_train']:.2f}s\")\n",
    "print(f\"Testing time: {model_eval_data['dt']['time_predict']:.2f}s\")\n",
    "print(f\"Train score {model_eval_data['dt']['train_score']:.2f}\")\n",
    "print(f\"Test score: {model_eval_data['dt']['test_score']:.2f}\")\n",
    "\n"
   ]
  },
  {
   "cell_type": "markdown",
   "metadata": {},
   "source": [
    "**Code: Python Implementation of Random Forest Classifier**"
   ]
  },
  {
   "cell_type": "markdown",
   "metadata": {},
   "source": [
    "Random Forest is a machine learning algorithm that belongs to the supervised learning technique. It can be used for both Classification and Regression problems in ML. It is based on the concept of ensemble learning, which is a process of combining multiple classifiers to solve a complex problem and to improve the performance of the model. Random Forest is a classifier that contains a number of decision trees on various subsets of the given dataset and takes the average to improve the predictive accuracy of that dataset. The greater number of trees in the forest leads to higher accuracy and prevents the problem of overfitting."
   ]
  },
  {
   "cell_type": "code",
   "execution_count": 73,
   "metadata": {
    "colab": {
     "base_uri": "https://localhost:8080/"
    },
    "id": "NBnAh83Lm_8B",
    "outputId": "403a30d0-e76f-4bdb-cb23-68131fd91b60"
   },
   "outputs": [
    {
     "name": "stdout",
     "output_type": "stream",
     "text": [
      "Training time: 1.25s\n",
      "Testing time: 0.18s\n",
      "Train score 1.00\n",
      "Test score: 1.00\n"
     ]
    }
   ],
   "source": [
    "from sklearn.ensemble import RandomForestClassifier\n",
    "  \n",
    "model_rf = RandomForestClassifier(n_estimators = 30)\n",
    "start_time = time.time()\n",
    "model_rf.fit(X_train, y_train.values.ravel())\n",
    "time_train = time.time()-start_time\n",
    "\n",
    "y_pred_test = model_rf.predict(X_test)\n",
    "conf_mat['rf'] = confusion_matrix(y_test, y_pred_test)\n",
    "\n",
    "time_predict, train_score, test_score = evaluate_model(model_rf, X_train, y_train, X_test, y_test)\n",
    "\n",
    "model_eval_data['rf'] = {'time_train': time_train,\n",
    "                          'time_predict': time_predict,\n",
    "                          'train_score': train_score,\n",
    "                          'test_score': test_score}\n",
    "\n",
    "print(f\"Training time: {model_eval_data['rf']['time_train']:.2f}s\")\n",
    "print(f\"Testing time: {model_eval_data['rf']['time_predict']:.2f}s\")\n",
    "print(f\"Train score {model_eval_data['rf']['train_score']:.2f}\")\n",
    "print(f\"Test score: {model_eval_data['rf']['test_score']:.2f}\")"
   ]
  },
  {
   "cell_type": "markdown",
   "metadata": {
    "id": "82Uo7Owbnbjn"
   },
   "source": [
    "**Code: Python implementation of Support Vector Classifier**"
   ]
  },
  {
   "cell_type": "markdown",
   "metadata": {},
   "source": [
    "Support Vector Machine or SVM is Supervised Learning algorithms, which is used for Classification as well as Regression problems.The goal of the SVM algorithm is to create the best line or decision boundary that can segregate n-dimensional space into classes so that we can easily put the new data point in the correct category in the future. This best decision boundary is called a hyperplane. SVM chooses the extreme points/vectors that help in creating the hyperplane. These extreme cases are called as support vectors, and hence algorithm is termed as Support Vector Machine"
   ]
  },
  {
   "cell_type": "code",
   "execution_count": 74,
   "metadata": {
    "colab": {
     "base_uri": "https://localhost:8080/"
    },
    "id": "JU8ZCOp2nbF5",
    "outputId": "9f50785a-9e61-4730-ef6c-3cf96abbca23"
   },
   "outputs": [
    {
     "name": "stdout",
     "output_type": "stream",
     "text": [
      "Training time: 18.94s\n",
      "Testing time: 30.66s\n",
      "Train score 1.00\n",
      "Test score: 1.00\n"
     ]
    }
   ],
   "source": [
    "from sklearn.svm import SVC\n",
    "  \n",
    "model_svc = SVC(gamma = 'scale')\n",
    "start_time = time.time()\n",
    "model_svc.fit(X_train, y_train.values.ravel())\n",
    "time_train = time.time()-start_time\n",
    "\n",
    "y_pred_test = model_svc.predict(X_test)\n",
    "conf_mat['svc']  = confusion_matrix(y_test, y_pred_test)\n",
    "\n",
    "time_predict, train_score, test_score = evaluate_model(model_svc, X_train, y_train, X_test, y_test)\n",
    "\n",
    "model_eval_data['svc'] = {'time_train': time_train,\n",
    "                          'time_predict': time_predict,\n",
    "                          'train_score': train_score,\n",
    "                          'test_score': test_score}\n",
    "\n",
    "print(f\"Training time: {model_eval_data['svc']['time_train']:.2f}s\")\n",
    "print(f\"Testing time: {model_eval_data['svc']['time_predict']:.2f}s\")\n",
    "print(f\"Train score {model_eval_data['svc']['train_score']:.2f}\")\n",
    "print(f\"Test score: {model_eval_data['svc']['test_score']:.2f}\")"
   ]
  },
  {
   "cell_type": "markdown",
   "metadata": {},
   "source": [
    "**Code: Python Implementation of Logistic Regression**"
   ]
  },
  {
   "cell_type": "markdown",
   "metadata": {},
   "source": [
    "Logistic regression is one of the machine learning algorithms, which comes under the Supervised Learning technique. It is used for predicting the categorical dependent variable using a given set of independent variables. Logistic regression predicts the output of a categorical dependent variable. Therefore the outcome must be a categorical or discrete value."
   ]
  },
  {
   "cell_type": "code",
   "execution_count": null,
   "metadata": {
    "colab": {
     "base_uri": "https://localhost:8080/"
    },
    "id": "DsAvluArnivV",
    "outputId": "4ab190f2-b8d9-4fd4-84db-34a965c67a44"
   },
   "outputs": [],
   "source": [
    "from sklearn.linear_model import LogisticRegression\n",
    "  \n",
    "model_lr = LogisticRegression(max_iter = 1200000)\n",
    "start_time = time.time()\n",
    "model_lr.fit(X_train, y_train.values.ravel())\n",
    "time_train = time.time()-start_time\n",
    "\n",
    "y_pred_test = model_lr.predict(X_test)\n",
    "conf_mat['lr']  = confusion_matrix(y_test, y_pred_test)\n",
    "\n",
    "time_predict, train_score, test_score = evaluate_model(model_lr, X_train, y_train, X_test, y_test)\n",
    "\n",
    "model_eval_data['lr'] = {'time_train': time_train,\n",
    "                          'time_predict': time_predict,\n",
    "                          'train_score': train_score,\n",
    "                          'test_score': test_score}\n",
    "\n",
    "print(f\"Training time: {model_eval_data['lr']['time_train']:.2f}s\")\n",
    "print(f\"Testing time: {model_eval_data['lr']['time_predict']:.2f}s\")\n",
    "print(f\"Train score {model_eval_data['lr']['train_score']:.2f}\")\n",
    "print(f\"Test score: {model_eval_data['lr']['test_score']:.2f}\")"
   ]
  },
  {
   "cell_type": "markdown",
   "metadata": {
    "id": "MGz3e6mFodeE"
   },
   "source": [
    "**Code: Python Implementation of Gradient Boosting Classifier**"
   ]
  },
  {
   "cell_type": "markdown",
   "metadata": {},
   "source": [
    "Gradient Boosting is an Ensemble Learning method ,in Gradient Boosting, each predictor tries to improve on its predecessor by reducing the errors. But the idea behind Gradient Boosting is that instead of fitting a predictor on the data at each iteration, it actually fits a new predictor to the residual errors made by the previous predictor. A gradient boosting classifier is used when the target column is binary."
   ]
  },
  {
   "cell_type": "code",
   "execution_count": null,
   "metadata": {
    "colab": {
     "base_uri": "https://localhost:8080/"
    },
    "id": "nG65O5JaoYvy",
    "outputId": "49dccdc2-c943-4a1d-c37f-5931e6996b15"
   },
   "outputs": [],
   "source": [
    "from sklearn.ensemble import GradientBoostingClassifier\n",
    "  \n",
    "model_gb = GradientBoostingClassifier(random_state=0)\n",
    "start_time = time.time()\n",
    "model_gb.fit(X_train, y_train.values.ravel())\n",
    "time_train = time.time()-start_time\n",
    "\n",
    "y_pred_test = model_gb.predict(X_test)\n",
    "conf_mat['gb']  = confusion_matrix(y_test, y_pred_test)\n",
    "\n",
    "time_predict, train_score, test_score = evaluate_model(model_gb, X_train, y_train, X_test, y_test)\n",
    "\n",
    "model_eval_data['gb'] = {'time_train': time_train,\n",
    "                          'time_predict': time_predict,\n",
    "                          'train_score': train_score,\n",
    "                          'test_score': test_score}\n",
    "\n",
    "print(f\"Training time: {model_eval_data['gb']['time_train']:.2f}s\")\n",
    "print(f\"Testing time: {model_eval_data['gb']['time_predict']:.2f}s\")\n",
    "print(f\"Train score {model_eval_data['gb']['train_score']:.2f}\")\n",
    "print(f\"Test score: {model_eval_data['gb']['test_score']:.2f}\")"
   ]
  },
  {
   "cell_type": "markdown",
   "metadata": {
    "id": "J0NL7eANY0Ae"
   },
   "source": [
    "\n",
    "## Confusion Matrices\n",
    "We plot the confusion matrices to visualize the performance of our clasifiers"
   ]
  },
  {
   "cell_type": "code",
   "execution_count": null,
   "metadata": {
    "colab": {
     "base_uri": "https://localhost:8080/",
     "height": 1000
    },
    "id": "-13DVc0OYzWt",
    "outputId": "a92e3dad-00cb-417e-d504-936106b5732c"
   },
   "outputs": [],
   "source": [
    "from sklearn.metrics import ConfusionMatrixDisplay\n",
    "for key in conf_mat:\n",
    "  disp = ConfusionMatrixDisplay(confusion_matrix=conf_mat[key])\n",
    "  disp.plot()\n",
    "  plt.title(key)\n",
    "  plt.show()"
   ]
  },
  {
   "cell_type": "markdown",
   "metadata": {
    "id": "pGG4V1L7aScN"
   },
   "source": [
    "From the confusion matrices we can see that the random forest classifier has roughly the same false positive and false negative chance, which is a bonus for the performance. We may want to tweak the false negative and positive probabilities, to make our classifier more or less agressive based on the cost of the different scenarios. For example, in case we the network we are trying to protect has sensitive information on it, we would like to make a clasifier that lowers the false negative probability as much as possible, even at the cost of a higher false positive probability, to protect our network as much as possible."
   ]
  },
  {
   "cell_type": "markdown",
   "metadata": {
    "id": "o74A_FK2R8NX"
   },
   "source": [
    "## Traning time/score plots\n",
    "Now we can compare the performance of the different models we tested"
   ]
  },
  {
   "cell_type": "code",
   "execution_count": null,
   "metadata": {
    "colab": {
     "base_uri": "https://localhost:8080/",
     "height": 914
    },
    "id": "x73UP9FKR7a3",
    "outputId": "d2ffe0d9-c0fc-446d-84a6-8c00ec0450b4"
   },
   "outputs": [],
   "source": [
    "plt.figure(figsize=(5,5), dpi=100)\n",
    "for key in model_eval_data:\n",
    "  model = model_eval_data[key]\n",
    "  plt.scatter(model['time_predict'], model['test_score'], label=key)\n",
    "plt.grid()\n",
    "plt.xlabel('Prediction time [s]')\n",
    "plt.ylabel('Test score')\n",
    "plt.legend()\n",
    "\n",
    "plt.figure(figsize=(5,5), dpi=100)\n",
    "for key in model_eval_data:\n",
    "  model = model_eval_data[key]\n",
    "  plt.scatter(model['time_train'], model['test_score'], label=key)\n",
    "plt.grid()\n",
    "plt.xlabel('Training time [s]')\n",
    "plt.ylabel('Test score')\n",
    "plt.legend()"
   ]
  },
  {
   "cell_type": "markdown",
   "metadata": {
    "id": "mmYES9NaVu0l"
   },
   "source": [
    "Judging from the plots, the method rf the optimal choice for this dataset. It achieves the best test accuracy, while being quick to train and allowing for fast inference."
   ]
  },
  {
   "cell_type": "markdown",
   "metadata": {
    "id": "lpIOxvwn7vFZ"
   },
   "source": [
    "# Pipeline creation\n",
    "\n",
    "Now that we have found our desired model together with the required preprocessing, we will create a Pipeline object, that will handle all the preprocessing for both the categorical and the numerical features and also the model itself. This pipeline allows us to fit the whole machine learning loop in a few lines of code and after, we can use the learned pipeline to make predictions on the Test.csv dataset."
   ]
  },
  {
   "cell_type": "code",
   "execution_count": null,
   "metadata": {
    "colab": {
     "base_uri": "https://localhost:8080/"
    },
    "id": "BYIxN_Req_oB",
    "outputId": "9976a5a3-532b-4190-d7f4-1da9c04db048"
   },
   "outputs": [],
   "source": [
    "X = df.drop('attack', axis=1)\n",
    "y = df['attack']\n",
    "# mapping the attack columns to the attack type groups\n",
    "class_label = y.map(labeling_attack_categories)\n",
    "y = pd.DataFrame(class_label.ravel(), columns=['attack'])\n",
    "\n",
    "X_train, X_test, y_train, y_test = train_test_split(X, y, test_size=0.2, random_state=25)\n",
    "\n",
    "\n",
    "rf_pipeline = Pipeline(steps=[\n",
    "    ('preprocess', full_processor),\n",
    "    ('model', model_rf)\n",
    "])\n",
    "\n",
    "rf_pipeline.fit(X_train, y_train)\n",
    "\n",
    "\n",
    "train_score = rf_pipeline.score(X_train, y_train)\n",
    "test_score = rf_pipeline.score(X_test, y_test)\n",
    "print(train_score)\n",
    "print(test_score)"
   ]
  },
  {
   "cell_type": "markdown",
   "metadata": {
    "id": "u-SJkxenyWFg"
   },
   "source": [
    "If we then use the trained Random Forest pipeline to make predictions on our Test.csv dataset, we will receive the attack types directly. This is because we are encoding the attack types by their respective groups when we are fitting the pipeline to the training data."
   ]
  },
  {
   "cell_type": "code",
   "execution_count": null,
   "metadata": {
    "colab": {
     "base_uri": "https://localhost:8080/"
    },
    "id": "9UdevczfxYZy",
    "outputId": "5d6cc6d9-f477-44f9-bbbf-3adcddb4519b"
   },
   "outputs": [],
   "source": [
    "#rf_pipeline.predict(df_test)\n",
    "df_to_save = pd.concat([df_test, rf_pipeline.predict(df_test)])\n",
    "df_to_save.save('Train_output.csv', format='csv')"
   ]
  },
  {
   "cell_type": "code",
   "execution_count": null,
   "metadata": {},
   "outputs": [],
   "source": []
  }
 ],
 "metadata": {
  "colab": {
   "provenance": []
  },
  "kernelspec": {
   "display_name": "Python 3 (ipykernel)",
   "language": "python",
   "name": "python3"
  },
  "language_info": {
   "codemirror_mode": {
    "name": "ipython",
    "version": 3
   },
   "file_extension": ".py",
   "mimetype": "text/x-python",
   "name": "python",
   "nbconvert_exporter": "python",
   "pygments_lexer": "ipython3",
   "version": "3.9.12"
  },
  "vscode": {
   "interpreter": {
    "hash": "95b195fd6d57967f4fba35b13a7567337b6902b91ff46dc25b4a3d17fd2e71c7"
   }
  }
 },
 "nbformat": 4,
 "nbformat_minor": 1
}
